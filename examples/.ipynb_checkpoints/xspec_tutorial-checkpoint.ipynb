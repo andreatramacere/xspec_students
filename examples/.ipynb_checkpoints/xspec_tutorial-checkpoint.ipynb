{
 "cells": [
  {
   "cell_type": "code",
   "execution_count": null,
   "metadata": {},
   "outputs": [],
   "source": [
    "import xspec as xp"
   ]
  },
  {
   "cell_type": "code",
   "execution_count": null,
   "metadata": {},
   "outputs": [],
   "source": [
    "import xspec as xsp\n",
    "\n",
    "xsp.AllModels.clear()\n",
    "xsp.AllData.clear()\n",
    "xsp.AllChains.clear()\n",
    "# PyXspec operations:\n",
    "\n",
    "#print('fitting->,', self.spec_file)\n",
    "#print('res', self.rmf_file)\n",
    "#print('arf', self.arf_file)\n",
    "#print('e_min_kev,e_max_kev',e_min_kev,e_max_kev)\n",
    "s = xsp.Spectrum('data/spec.fits')\n",
    "\n",
    "#if self.rmf_file is not None:\n",
    "s.response = 'data/rmf.fits'\n",
    "#if self.arf_file is not None:\n",
    "s.response.arf = 'data/arf.fits'\n",
    "\n",
    "#s.ignore('**-15.')\n",
    "#s.ignore('300.-**')\n",
    "\n",
    "s.ignore('**-15')\n",
    "s.ignore('300-**')\n",
    "xsp.AllData.ignore('bad')\n",
    "\n",
    "model_name = 'po'\n",
    "\n",
    "m = xsp.Model(model_name)\n",
    "\n"
   ]
  },
  {
   "cell_type": "code",
   "execution_count": null,
   "metadata": {},
   "outputs": [],
   "source": [
    "xsp.Fit.query = 'yes'\n",
    "xsp.Fit.perform()"
   ]
  }
 ],
 "metadata": {
  "kernelspec": {
   "display_name": "Python 3",
   "language": "python",
   "name": "python3"
  },
  "language_info": {
   "codemirror_mode": {
    "name": "ipython",
    "version": 3
   },
   "file_extension": ".py",
   "mimetype": "text/x-python",
   "name": "python",
   "nbconvert_exporter": "python",
   "pygments_lexer": "ipython3",
   "version": "3.7.5"
  }
 },
 "nbformat": 4,
 "nbformat_minor": 4
}
