{
 "cells": [
  {
   "cell_type": "code",
   "execution_count": 1,
   "metadata": {
    "collapsed": true
   },
   "outputs": [],
   "source": [
    "from astropy.table import  Table\n",
    "def print_model(m):\n",
    "    _comp = []\n",
    "    _name = []\n",
    "    _val = []\n",
    "    _unit = []\n",
    "    _err = []\n",
    "    _froz = []\n",
    "    colnames = ['component', 'par name', 'value', 'units', 'error', 'free']\n",
    "    for model_name in m.componentNames:\n",
    "        fit_model = getattr(m, model_name)\n",
    "        for name in fit_model.parameterNames:\n",
    "            p = getattr(fit_model, name)\n",
    "            _comp.append('%s' % (model_name))\n",
    "            _name.append('%s' % (p.name))\n",
    "            _val.append('%5.5f' % p.values[0])\n",
    "            _unit.append('%s' % p.unit)\n",
    "            _err.append('%5.5f' % p.sigma)\n",
    "            _froz.append('%s' % p.frozen)\n",
    "\n",
    "    t=Table([_comp, _name, _val, _unit, _err, _froz],names=colnames)\n",
    "    print(t)"
   ]
  },
  {
   "cell_type": "code",
   "execution_count": 2,
   "metadata": {
    "collapsed": true
   },
   "outputs": [],
   "source": [
    "import shutil\n",
    "from IPython.display import Image\n",
    "from IPython.display import display \n",
    "def plot_spectrum():\n",
    "    xsp.Plot.device=\"/png\"\n",
    "    #xspec.Plot.addCommand(\"setplot en\")\n",
    "    xsp.Plot.xAxis=\"keV\"\n",
    "    xsp.Plot(\"euf del\")\n",
    "    xsp.Plot.device=\"/png\"\n",
    "\n",
    "    fn=\"test.png\"\n",
    "\n",
    "\n",
    "\n",
    "    shutil.move(\"pgplot.png_2\", fn)\n",
    "\n",
    "    _=display(Image(filename=fn,format=\"png\"))"
   ]
  },
  {
   "cell_type": "code",
   "execution_count": 3,
   "metadata": {
    "collapsed": true
   },
   "outputs": [],
   "source": [
    "def get_stats():\n",
    "    chi2_red=xsp.Fit.statistic/xsp.Fit.dof\n",
    "    chi2=xsp.Fit.statistic\n",
    "    ndof=xsp.Fit.dof\n",
    "    \n",
    "    return chi2_red, chi2, ndof"
   ]
  },
  {
   "cell_type": "code",
   "execution_count": 4,
   "metadata": {},
   "outputs": [
    {
     "ename": "ImportError",
     "evalue": "No module named future",
     "output_type": "error",
     "traceback": [
      "\u001b[0;31m---------------------------------------------------------------------------\u001b[0m",
      "\u001b[0;31mImportError\u001b[0m                               Traceback (most recent call last)",
      "\u001b[0;32m<ipython-input-4-940269d3b7fd>\u001b[0m in \u001b[0;36m<module>\u001b[0;34m()\u001b[0m\n\u001b[0;32m----> 1\u001b[0;31m \u001b[0;32mfrom\u001b[0m \u001b[0mfuture\u001b[0m \u001b[0;32mimport\u001b[0m \u001b[0;34m*\u001b[0m\u001b[0;34m\u001b[0m\u001b[0m\n\u001b[0m\u001b[1;32m      2\u001b[0m \u001b[0;32mimport\u001b[0m \u001b[0mpprint\u001b[0m\u001b[0;34m\u001b[0m\u001b[0m\n\u001b[1;32m      3\u001b[0m \u001b[0;32mimport\u001b[0m \u001b[0mxspec\u001b[0m \u001b[0;32mas\u001b[0m \u001b[0mxsp\u001b[0m\u001b[0;34m\u001b[0m\u001b[0m\n\u001b[1;32m      4\u001b[0m \u001b[0mxsp\u001b[0m\u001b[0;34m.\u001b[0m\u001b[0mXset\u001b[0m\u001b[0;34m.\u001b[0m\u001b[0mallowPrompting\u001b[0m\u001b[0;34m\u001b[0m\u001b[0m\n\u001b[1;32m      5\u001b[0m \u001b[0mxsp\u001b[0m\u001b[0;34m.\u001b[0m\u001b[0mAllModels\u001b[0m\u001b[0;34m.\u001b[0m\u001b[0mclear\u001b[0m\u001b[0;34m(\u001b[0m\u001b[0;34m)\u001b[0m\u001b[0;34m\u001b[0m\u001b[0m\n",
      "\u001b[0;31mImportError\u001b[0m: No module named future"
     ]
    }
   ],
   "source": [
    "from future import *\n",
    "import pprint\n",
    "import xspec as xsp\n",
    "xsp.Xset.allowPrompting \n",
    "xsp.AllModels.clear()\n",
    "xsp.AllData.clear()\n",
    "xsp.AllChains.clear()\n",
    "\n",
    "s = xsp.Spectrum('data/spec.fits')\n",
    "\n",
    "s.response = 'data/rmf.fits'\n",
    "s.response.arf = 'data/arf.fits'\n",
    "\n",
    "s.ignore('**-15')\n",
    "s.ignore('300-**')\n",
    "xsp.AllData.ignore('bad')\n",
    "\n",
    "model_name = 'wabs*po'\n",
    "\n",
    "m = xsp.Model(model_name)\n",
    "\n"
   ]
  },
  {
   "cell_type": "code",
   "execution_count": 92,
   "metadata": {},
   "outputs": [
    {
     "name": "stdout",
     "output_type": "stream",
     "text": [
      "component par name  value  units  error \n",
      "--------- -------- ------- ----- -------\n",
      "     wabs       nH 1.00000 10^22 0.00000\n",
      " powerlaw PhoIndex 1.00000       0.00000\n",
      " powerlaw     norm 1.00000       0.00000\n"
     ]
    }
   ],
   "source": [
    "print_model(m)"
   ]
  },
  {
   "cell_type": "code",
   "execution_count": 93,
   "metadata": {
    "collapsed": true
   },
   "outputs": [],
   "source": [
    "xsp.Fit.query = 'yes'\n",
    "xsp.Fit.perform()"
   ]
  },
  {
   "cell_type": "code",
   "execution_count": 94,
   "metadata": {},
   "outputs": [
    {
     "name": "stdout",
     "output_type": "stream",
     "text": [
      "component par name  value   units  error  \n",
      "--------- -------- -------- ----- --------\n",
      "     wabs       nH  0.00004 10^22 -1.00000\n",
      " powerlaw PhoIndex  3.35376        0.35829\n",
      " powerlaw     norm 59.31030       76.31400\n"
     ]
    }
   ],
   "source": [
    "print_model(m)"
   ]
  },
  {
   "cell_type": "code",
   "execution_count": 95,
   "metadata": {},
   "outputs": [
    {
     "name": "stdout",
     "output_type": "stream",
     "text": [
      "('chi_red', 1.0906180778878924)\n",
      "('chi', 47.98719542706727)\n",
      "('ndof', 44)\n"
     ]
    }
   ],
   "source": [
    "chi2_red, chi2, ndof =get_stats()\n",
    "print('chi_red',chi2_red)\n",
    "print('chi',chi2)\n",
    "print('ndof',ndof)"
   ]
  },
  {
   "cell_type": "code",
   "execution_count": 96,
   "metadata": {},
   "outputs": [
    {
     "data": {
      "image/png": "[encoded data removed]",
      "text/plain": [
       "<IPython.core.display.Image object>"
      ]
     },
     "metadata": {},
     "output_type": "display_data"
    }
   ],
   "source": [
    "plot_spectrum()"
   ]
  },
  {
   "cell_type": "code",
   "execution_count": null,
   "metadata": {
    "collapsed": true
   },
   "outputs": [],
   "source": [
    "de"
   ]
  }
 ],
 "metadata": {
  "kernelspec": {
   "display_name": "Python 2",
   "language": "python",
   "name": "python2"
  },
  "language_info": {
   "codemirror_mode": {
    "name": "ipython",
    "version": 2
   },
   "file_extension": ".py",
   "mimetype": "text/x-python",
   "name": "python",
   "nbconvert_exporter": "python",
   "pygments_lexer": "ipython2",
   "version": "2.7.13"
  }
 },
 "nbformat": 4,
 "nbformat_minor": 4
}
