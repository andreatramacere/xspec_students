{
 "cells": [
  {
   "cell_type": "markdown",
   "metadata": {},
   "source": [
    "# After the introductive slides on Xspec... let's try to interactively work with PyXspec now, starting from this template..."
   ]
  },
  {
   "cell_type": "code",
   "execution_count": null,
   "metadata": {},
   "outputs": [],
   "source": [
    "from IPython.core.display import display, HTML\n",
    "display(HTML(\"<style>.container { width:80% !important; }</style>\"))"
   ]
  },
  {
   "cell_type": "code",
   "execution_count": null,
   "metadata": {},
   "outputs": [],
   "source": [
    "from astropy.table import  Table\n",
    "def print_model(m):\n",
    "    _comp = []\n",
    "    _name = []\n",
    "    _val = []\n",
    "    _unit = []\n",
    "    _err = []\n",
    "    _step = []\n",
    "    _min = []\n",
    "    _max = []\n",
    "    _froz = []\n",
    "    colnames = ['component', 'par name', 'value', 'units', 'error', 'step', 'min', 'max', 'frozen']\n",
    "    for model_name in m.componentNames:\n",
    "        fit_model = getattr(m, model_name)\n",
    "        for name in fit_model.parameterNames:\n",
    "            p = getattr(fit_model, name)\n",
    "            _comp.append('%s' % (model_name))\n",
    "            _name.append('%s' % (p.name))\n",
    "            _val.append('%5.4f' % p.values[0])\n",
    "            _unit.append('%s' % p.unit)\n",
    "            _err.append('%5.4f' % p.sigma)\n",
    "            _step.append('%5.4f' % p.values[1])\n",
    "            _min.append('%5.2e' % p.values[2])\n",
    "            _max.append('%5.2e' % p.values[4])\n",
    "            _froz.append('%s' % p.frozen)\n",
    "\n",
    "    t=Table([_comp, _name, _val, _unit, _err, _step, _min, _max, _froz],names=colnames)\n",
    "    print(t)"
   ]
  },
  {
   "cell_type": "code",
   "execution_count": null,
   "metadata": {},
   "outputs": [],
   "source": [
    "import shutil\n",
    "from IPython.display import Image\n",
    "from IPython.display import display \n",
    "def plot_spectrum(what = \"euf del\", units = \"keV\", minSig=0, maxBins=1, command = \"\"):\n",
    "    '''\n",
    "    Possible unit formats are: \"channel\", \"MeV\", \"Hz\", \"angstrom\"\n",
    "    rebin: minSig, maxBins, groupNum, errType \n",
    "    '''\n",
    "#    xsp.Plot.addCommand(\"setplot delete all\")\n",
    "#    xsp.Plot.commands = ()\n",
    "    xsp.Plot.device=\"/png\"\n",
    "    xsp.Plot.xAxis=units\n",
    "    xsp.Plot.background = True\n",
    "    xsp.Plot.setRebin(minSig=minSig, maxBins=maxBins)#, groupNum=1, errType=\"quad\") #DOES NOT WORK\n",
    "    if command:\n",
    "        xsp.Plot.addCommand(command)    \n",
    "    xsp.Plot(what)\n",
    "\n",
    "    #xspec.Plot.addCommand(\"setplot en\")\n",
    "#    xsp.Plot.xLog = False\n",
    "#    xsp.Plot.yLog = False\n",
    "#    xsp.Plot(\"ufspec\")\n",
    "#    xsp.Plot(\"data\")\n",
    "#    xsp.Plot(\"model\")\n",
    "#    xsp.Plot(\"data chisq\")\n",
    "#    xsp.Plot(\"data\",\"model\",\"resid\")\n",
    "\n",
    "#    xsp.Plot.setRebin(minSig=10, maxBins=30, groupNum=1, errType=\"quad\") #DOES NOT WORK\n",
    "#    if bool(rebin):\n",
    "#        print rebin\n",
    "#        xsp.Plot.addCommand(\"setPlot rebin %s\" % (rebin))\n",
    "#    else:\n",
    "#        print \"no rebin\"\n",
    "#        xsp.Plot.addCommand(\"setplot delete all\")\n",
    "#        xsp.Plot.commands = ()\n",
    "#    print xsp.Plot.commands\n",
    "\n",
    "    xsp.Plot.device=\"/png\"\n",
    "\n",
    "    fn=\"test.png\"\n",
    "\n",
    "\n",
    "    shutil.move(\"pgplot.png_2\", fn)\n",
    "\n",
    "    _=display(Image(filename=fn,format=\"png\"))\n",
    "    \n",
    "    return xsp.Plot"
   ]
  },
  {
   "cell_type": "code",
   "execution_count": null,
   "metadata": {},
   "outputs": [],
   "source": [
    "def get_stats():\n",
    "    chi2_red=xsp.Fit.statistic/xsp.Fit.dof\n",
    "    chi2=xsp.Fit.statistic\n",
    "    ndof=xsp.Fit.dof\n",
    "    \n",
    "    return chi2_red, chi2, ndof"
   ]
  },
  {
   "cell_type": "code",
   "execution_count": null,
   "metadata": {},
   "outputs": [],
   "source": [
    "from future import *\n",
    "import pprint\n",
    "import xspec as xsp"
   ]
  },
  {
   "cell_type": "code",
   "execution_count": null,
   "metadata": {},
   "outputs": [],
   "source": [
    "xsp.Xset.allowPrompting \n",
    "xsp.AllModels.clear()\n",
    "xsp.AllData.clear()\n",
    "xsp.AllChains.clear()\n",
    "\n",
    "# Load the spectrum file\n",
    "s = xsp.Spectrum('data/spec.fits')\n",
    "# Load the response file (Energy vs. channels)\n",
    "s.response = 'data/rmf.fits'\n",
    "# Load the arf file (Effective Area vs. Energy)\n",
    "s.response.arf = 'data/arf.fits'"
   ]
  },
  {
   "cell_type": "code",
   "execution_count": null,
   "metadata": {},
   "outputs": [],
   "source": [
    "s.notice('all')\n",
    "plot_spectrum(what='ldata', units='ch')\n",
    "s.noticed"
   ]
  },
  {
   "cell_type": "code",
   "execution_count": null,
   "metadata": {},
   "outputs": [],
   "source": [
    "xsp.AllData.ignore('bad')\n",
    "s.noticed"
   ]
  },
  {
   "cell_type": "code",
   "execution_count": null,
   "metadata": {},
   "outputs": [],
   "source": [
    "plot_spectrum(what='ldata', units='ch')"
   ]
  },
  {
   "cell_type": "code",
   "execution_count": null,
   "metadata": {},
   "outputs": [],
   "source": [
    "s.ignore('**-2')\n",
    "s.ignore('60-**')"
   ]
  },
  {
   "cell_type": "code",
   "execution_count": null,
   "metadata": {},
   "outputs": [],
   "source": [
    "plot_spectrum(what='ldata', units='ch')\n",
    "s.noticed"
   ]
  },
  {
   "cell_type": "code",
   "execution_count": null,
   "metadata": {},
   "outputs": [],
   "source": [
    "plot_spectrum(what='ldata', units='keV')"
   ]
  },
  {
   "cell_type": "code",
   "execution_count": null,
   "metadata": {},
   "outputs": [],
   "source": [
    "s.ignore('**-20.')\n",
    "s.ignore('300.-**')"
   ]
  },
  {
   "cell_type": "code",
   "execution_count": null,
   "metadata": {},
   "outputs": [],
   "source": [
    "plot_spectrum(what='ldata', units='keV')"
   ]
  },
  {
   "cell_type": "code",
   "execution_count": null,
   "metadata": {},
   "outputs": [],
   "source": [
    "s.notice('all')\n",
    "xsp.AllData.ignore('bad')\n",
    "s.noticed"
   ]
  },
  {
   "cell_type": "code",
   "execution_count": null,
   "metadata": {},
   "outputs": [],
   "source": []
  },
  {
   "cell_type": "code",
   "execution_count": null,
   "metadata": {},
   "outputs": [],
   "source": [
    "# Define a model\n",
    "m = xsp.Model('wabs*po')"
   ]
  },
  {
   "cell_type": "code",
   "execution_count": null,
   "metadata": {},
   "outputs": [],
   "source": [
    "print_model(m)"
   ]
  },
  {
   "cell_type": "code",
   "execution_count": null,
   "metadata": {},
   "outputs": [],
   "source": [
    "# Component objects are accessible-by-name as Model object attributes:\n",
    "comp1 = m.wabs\n",
    "comp2 = m.powerlaw\n",
    "# Parameter objects are accessible-by-name as Component object attributes:\n",
    "par1 = m.wabs.nH\n",
    "par2 = m.powerlaw.PhoIndex\n",
    "# ...and we can modify their values:\n",
    "par2.values = 2.0\n",
    "m.wabs.nH = 1.5\n",
    "comp2.norm = 3.0\n",
    "\n",
    "# Can also get a Parameter object directly from a Model, without going\n",
    "# through a Component.  Just pass the Model the Parameter index number:\n",
    "par3 = m(3)"
   ]
  },
  {
   "cell_type": "code",
   "execution_count": null,
   "metadata": {},
   "outputs": [],
   "source": [
    "print_model(m)"
   ]
  },
  {
   "cell_type": "code",
   "execution_count": null,
   "metadata": {},
   "outputs": [],
   "source": [
    "# Or you can use the 'setPars' method to change the value of a parameter\n",
    "# model.setPars({nPar:value})\n",
    "m.setPars({2:1.7}) # "
   ]
  },
  {
   "cell_type": "code",
   "execution_count": null,
   "metadata": {},
   "outputs": [],
   "source": [
    "print_model(m)"
   ]
  },
  {
   "cell_type": "code",
   "execution_count": null,
   "metadata": {},
   "outputs": [],
   "source": [
    "# If you want to change e.g. the 'step' or 'boundary' you must use a list of 6 floats: [value, fit delta, min, bot, top, max]\n",
    "m.powerlaw.PhoIndex.values = [1.0, 0.01, -4.0, -3.0, 6.0, 7.0]"
   ]
  },
  {
   "cell_type": "code",
   "execution_count": null,
   "metadata": {},
   "outputs": [],
   "source": [
    "print_model(m)"
   ]
  },
  {
   "cell_type": "code",
   "execution_count": null,
   "metadata": {},
   "outputs": [],
   "source": [
    "# To free / freeze a parameter:\n",
    "par2.frozen = False\n",
    "par3.frozen = True"
   ]
  },
  {
   "cell_type": "code",
   "execution_count": null,
   "metadata": {},
   "outputs": [],
   "source": [
    "print_model(m)"
   ]
  },
  {
   "cell_type": "code",
   "execution_count": null,
   "metadata": {},
   "outputs": [],
   "source": [
    "par1.link = \"3.3 * 2\" # Link par 1 to par 2 with a multiplicative constant 3.3\n",
    "par1.link = \"\" # Removes the link.\n",
    "par1.untie()   # Also removes the link."
   ]
  },
  {
   "cell_type": "code",
   "execution_count": null,
   "metadata": {},
   "outputs": [],
   "source": [
    "print_model(m)"
   ]
  },
  {
   "cell_type": "code",
   "execution_count": null,
   "metadata": {},
   "outputs": [],
   "source": [
    "# Clear the model to its original value\n",
    "m = xsp.Model('wabs*po')"
   ]
  },
  {
   "cell_type": "code",
   "execution_count": null,
   "metadata": {},
   "outputs": [],
   "source": [
    "xsp.Fit.renorm()"
   ]
  },
  {
   "cell_type": "code",
   "execution_count": null,
   "metadata": {},
   "outputs": [],
   "source": [
    "xsp.Fit.query = 'yes'\n",
    "xsp.Fit.perform()"
   ]
  },
  {
   "cell_type": "code",
   "execution_count": null,
   "metadata": {},
   "outputs": [],
   "source": [
    "print_model(m)"
   ]
  },
  {
   "cell_type": "code",
   "execution_count": null,
   "metadata": {},
   "outputs": [],
   "source": [
    "chi2_red, chi2, ndof =get_stats()\n",
    "print('chi_red',chi2_red)\n",
    "print('chi',chi2)\n",
    "print('ndof',ndof)"
   ]
  },
  {
   "cell_type": "code",
   "execution_count": null,
   "metadata": {},
   "outputs": [],
   "source": [
    "plot_spectrum(what='ldata', units='keV')"
   ]
  },
  {
   "cell_type": "code",
   "execution_count": null,
   "metadata": {},
   "outputs": [],
   "source": [
    "print_model(m)"
   ]
  },
  {
   "cell_type": "code",
   "execution_count": null,
   "metadata": {},
   "outputs": [],
   "source": [
    "# Step parameter 3 from 1.5 to 2.5 in 10 linear steps\n",
    "xsp.Fit.steppar(\"2 1.7 3.7 10\")\n",
    "step2 = xsp.Fit.stepparResults('delstat')\n",
    "xsp.Fit.steppar(\"3 0.6 60. 10\")\n",
    "step3 = xsp.Fit.stepparResults('delstat')\n",
    "\n",
    "# Repeat the above but with logarithmic steps\n",
    "#xsp.Fit.steppar(\"log\")\n",
    "# Step parameter 2 linearly from -.2 to .2 in steps of .02\n",
    "#xsp.Fit.steppar(\"nolog 2 -.2 .2 20\")"
   ]
  },
  {
   "cell_type": "code",
   "execution_count": null,
   "metadata": {},
   "outputs": [],
   "source": [
    "step2"
   ]
  },
  {
   "cell_type": "code",
   "execution_count": null,
   "metadata": {},
   "outputs": [],
   "source": [
    "step3"
   ]
  },
  {
   "cell_type": "code",
   "execution_count": null,
   "metadata": {},
   "outputs": [],
   "source": [
    "# Create and open a log file for XSPEC output\n",
    "# This returns a Python file object\n",
    "logFile = xsp.Xset.openLog(\"newLogFile.txt\")\n",
    "\n",
    "# commands with desired output:\n",
    "xsp.Fit.show()\n",
    "m.show()\n",
    "\n",
    "# Get the Python file object for the currently opened log\n",
    "logFile = xsp.Xset.log\n",
    "# Close XSPEC's currently opened log file.\n",
    "xsp.Xset.closeLog()"
   ]
  },
  {
   "cell_type": "code",
   "execution_count": null,
   "metadata": {},
   "outputs": [],
   "source": [
    "less newLogFile.txt"
   ]
  },
  {
   "cell_type": "code",
   "execution_count": null,
   "metadata": {},
   "outputs": [],
   "source": [
    "plot_spectrum(what='eeuf delchi', units='keV')"
   ]
  },
  {
   "cell_type": "code",
   "execution_count": null,
   "metadata": {},
   "outputs": [],
   "source": [
    "plot_spectrum(what='eeuf delchi', units='keV', minSig=2, maxBins=10)"
   ]
  },
  {
   "cell_type": "code",
   "execution_count": null,
   "metadata": {},
   "outputs": [],
   "source": [
    "# 'AllModels' is a container for all models\n",
    "# 'AllData' is a container for all data\n",
    "xsp.AllModels.calcFlux(\"50. 100.\")\n",
    "s1 = xsp.AllData(1)\n",
    "s1.flux"
   ]
  },
  {
   "cell_type": "code",
   "execution_count": null,
   "metadata": {},
   "outputs": [],
   "source": [
    "# Luminosity(enMin, enMax, redshift)\n",
    "xsp.AllModels.calcLumin(\"50. 100. .05\")\n",
    "s1 = xsp.AllData(1)\n",
    "s1.lumin"
   ]
  },
  {
   "cell_type": "code",
   "execution_count": null,
   "metadata": {},
   "outputs": [],
   "source": [
    "#Estimate the 90% confidence range for the 2nd parameter\n",
    "xsp.Fit.error(\"2.706 2\")\n",
    "par2 = xsp.AllModels(1)(2)\n",
    "par2.error"
   ]
  },
  {
   "cell_type": "code",
   "execution_count": null,
   "metadata": {},
   "outputs": [],
   "source": [
    "#Estimate the 90% confidence range for the 2nd parameter\n",
    "xsp.Fit.error(\"1. 2\")\n",
    "par2 = xsp.AllModels(1)(2)\n",
    "par2.error"
   ]
  },
  {
   "cell_type": "markdown",
   "metadata": {
    "collapsed": true
   },
   "source": [
    "# Load another spectra (NGC 7582)"
   ]
  },
  {
   "cell_type": "code",
   "execution_count": null,
   "metadata": {},
   "outputs": [],
   "source": [
    "cd data"
   ]
  },
  {
   "cell_type": "code",
   "execution_count": null,
   "metadata": {},
   "outputs": [],
   "source": [
    "xsp.AllModels.clear()\n",
    "xsp.AllData.clear()\n",
    "xsp.AllChains.clear()\n",
    "\n",
    "s = xsp.Spectrum('nu_ngc7582_sr-30.pha')\n",
    "#s.response = 'data/rmf.fits'\n",
    "#s.response.arf = 'data/arf.fits'\n",
    "\n",
    "#s.ignore('**-15')\n",
    "#s.ignore('300-**')\n",
    "xsp.AllData.ignore('bad')\n",
    "\n",
    "# Try to fit first with a simple powlaw\n",
    "m = xsp.Model('po')"
   ]
  },
  {
   "cell_type": "code",
   "execution_count": null,
   "metadata": {},
   "outputs": [],
   "source": [
    "print_model(m)"
   ]
  },
  {
   "cell_type": "code",
   "execution_count": null,
   "metadata": {},
   "outputs": [],
   "source": [
    "xsp.Fit.query = 'yes'\n",
    "xsp.Fit.perform()"
   ]
  },
  {
   "cell_type": "code",
   "execution_count": null,
   "metadata": {},
   "outputs": [],
   "source": [
    "print_model(m)"
   ]
  },
  {
   "cell_type": "code",
   "execution_count": null,
   "metadata": {},
   "outputs": [],
   "source": [
    "chi2_red, chi2, ndof = get_stats()\n",
    "print('chi_red',chi2_red)\n",
    "print('chi',chi2)\n",
    "print('ndof',ndof)"
   ]
  },
  {
   "cell_type": "code",
   "execution_count": null,
   "metadata": {},
   "outputs": [],
   "source": [
    "plot_spectrum(\"euf del chisq\")"
   ]
  },
  {
   "cell_type": "code",
   "execution_count": null,
   "metadata": {},
   "outputs": [],
   "source": [
    "xsp.AllModels.clear()\n",
    "# Add then the absorption\n",
    "m = xsp.Model('wabs*po')"
   ]
  },
  {
   "cell_type": "markdown",
   "metadata": {},
   "source": [
    " List of Xspec models:\n",
    " https://heasarc.gsfc.nasa.gov/xanadu/xspec/manual/Models.html"
   ]
  },
  {
   "cell_type": "code",
   "execution_count": null,
   "metadata": {},
   "outputs": [],
   "source": [
    "print_model(m)"
   ]
  },
  {
   "cell_type": "code",
   "execution_count": null,
   "metadata": {},
   "outputs": [],
   "source": [
    "m.componentNames"
   ]
  },
  {
   "cell_type": "code",
   "execution_count": null,
   "metadata": {},
   "outputs": [],
   "source": [
    "# Component objects are accessible-by-name as Model object attributes:\n",
    "comp1 = m.wabs\n",
    "comp2 = m.powerlaw"
   ]
  },
  {
   "cell_type": "code",
   "execution_count": null,
   "metadata": {},
   "outputs": [],
   "source": [
    "comp1.parameterNames"
   ]
  },
  {
   "cell_type": "code",
   "execution_count": null,
   "metadata": {},
   "outputs": [],
   "source": [
    "comp2.parameterNames"
   ]
  },
  {
   "cell_type": "code",
   "execution_count": null,
   "metadata": {},
   "outputs": [],
   "source": [
    "# Parameter objects are accessible-by-name as Component object attributes:\n",
    "par3 = comp2.norm"
   ]
  },
  {
   "cell_type": "code",
   "execution_count": null,
   "metadata": {},
   "outputs": [],
   "source": [
    "# value, fit delta, min, bot, top, max\n",
    "par3.values"
   ]
  },
  {
   "cell_type": "code",
   "execution_count": null,
   "metadata": {},
   "outputs": [],
   "source": [
    "# ...and we can modify their values:\n",
    "par3.values = 0.003\n",
    "m.wabs.nH = 20\n",
    "comp2.PhoIndex = 1.5"
   ]
  },
  {
   "cell_type": "code",
   "execution_count": null,
   "metadata": {},
   "outputs": [],
   "source": [
    "print_model(m)"
   ]
  },
  {
   "cell_type": "code",
   "execution_count": null,
   "metadata": {},
   "outputs": [],
   "source": [
    "plot_spectrum()"
   ]
  },
  {
   "cell_type": "code",
   "execution_count": null,
   "metadata": {},
   "outputs": [],
   "source": [
    "xsp.Fit.query = 'yes'\n",
    "xsp.Fit.perform()\n",
    "\n",
    "chi2_red, chi2, ndof = get_stats()\n",
    "print('chi_red',chi2_red)\n",
    "print('chi',chi2)\n",
    "print('ndof',ndof)"
   ]
  },
  {
   "cell_type": "code",
   "execution_count": null,
   "metadata": {},
   "outputs": [],
   "source": [
    "print_model(m)"
   ]
  },
  {
   "cell_type": "code",
   "execution_count": null,
   "metadata": {},
   "outputs": [],
   "source": [
    "plot_spectrum()"
   ]
  },
  {
   "cell_type": "code",
   "execution_count": null,
   "metadata": {},
   "outputs": [],
   "source": [
    "xsp.AllModels.clear()\n",
    "# Use a more appropriate model\n",
    "m = xsp.Model('zphabs*(pexrav)')"
   ]
  },
  {
   "cell_type": "code",
   "execution_count": null,
   "metadata": {},
   "outputs": [],
   "source": [
    "print_model(m)"
   ]
  },
  {
   "cell_type": "code",
   "execution_count": null,
   "metadata": {},
   "outputs": [],
   "source": [
    "plot_spectrum()"
   ]
  },
  {
   "cell_type": "code",
   "execution_count": null,
   "metadata": {},
   "outputs": [],
   "source": [
    "xsp.Fit.renorm()"
   ]
  },
  {
   "cell_type": "code",
   "execution_count": null,
   "metadata": {},
   "outputs": [],
   "source": [
    "plot_spectrum()"
   ]
  },
  {
   "cell_type": "code",
   "execution_count": null,
   "metadata": {},
   "outputs": [],
   "source": [
    "print_model(m)"
   ]
  },
  {
   "cell_type": "code",
   "execution_count": null,
   "metadata": {},
   "outputs": [],
   "source": [
    "xsp.Fit.query = 'yes'\n",
    "xsp.Fit.perform()\n",
    "\n",
    "chi2_red, chi2, ndof = get_stats()\n",
    "print('chi_red',chi2_red)\n",
    "print('chi',chi2)\n",
    "print('ndof',ndof)"
   ]
  },
  {
   "cell_type": "code",
   "execution_count": null,
   "metadata": {},
   "outputs": [],
   "source": [
    "print_model(m)"
   ]
  },
  {
   "cell_type": "code",
   "execution_count": null,
   "metadata": {},
   "outputs": [],
   "source": [
    "p = plot_spectrum()"
   ]
  },
  {
   "cell_type": "code",
   "execution_count": null,
   "metadata": {},
   "outputs": [],
   "source": [
    "xVals = p.x()\n",
    "yVals = p.y()\n",
    "#yVals2 = p.y(2)  # Gets values for data in the second plot group\n",
    "modVals = p.model()\n",
    "# Retrieve error arrays\n",
    "xErrs = p.xErr()\n",
    "yErrs = p.yErr()"
   ]
  },
  {
   "cell_type": "code",
   "execution_count": null,
   "metadata": {},
   "outputs": [],
   "source": [
    "yErrs"
   ]
  },
  {
   "cell_type": "code",
   "execution_count": null,
   "metadata": {},
   "outputs": [],
   "source": [
    "plot_spectrum(\"euf del chisq\")"
   ]
  },
  {
   "cell_type": "code",
   "execution_count": null,
   "metadata": {},
   "outputs": [],
   "source": [
    "# Finally you can use an even more complex model\n",
    "# m3 = xsp.Model('zphabs*(pexrav+zgauss)')"
   ]
  },
  {
   "cell_type": "markdown",
   "metadata": {},
   "source": [
    "# Load another spectra if you want to try on your own... (NGC 5548)"
   ]
  },
  {
   "cell_type": "code",
   "execution_count": null,
   "metadata": {},
   "outputs": [],
   "source": [
    "xsp.AllModels.clear()\n",
    "xsp.AllData.clear()\n",
    "xsp.AllChains.clear()\n",
    "\n",
    "s = xsp.Spectrum(\"nu_ngc5548_obs1_sr-30.pha\")"
   ]
  },
  {
   "cell_type": "code",
   "execution_count": null,
   "metadata": {},
   "outputs": [],
   "source": [
    "..."
   ]
  }
 ],
 "metadata": {
  "kernelspec": {
   "display_name": "Python 2",
   "language": "python",
   "name": "python2"
  },
  "language_info": {
   "codemirror_mode": {
    "name": "ipython",
    "version": 2
   },
   "file_extension": ".py",
   "mimetype": "text/x-python",
   "name": "python",
   "nbconvert_exporter": "python",
   "pygments_lexer": "ipython2",
   "version": "2.7.15"
  }
 },
 "nbformat": 4,
 "nbformat_minor": 4
}
