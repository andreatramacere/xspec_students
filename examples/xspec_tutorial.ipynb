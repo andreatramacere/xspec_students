{
 "cells": [
  {
   "cell_type": "markdown",
   "metadata": {},
   "source": [
    "# After the introductive slides on Xspec... let's try to interactively work with PyXspec now, starting from this template..."
   ]
  },
  {
   "cell_type": "code",
   "execution_count": null,
   "metadata": {},
   "outputs": [],
   "source": [
    "from astropy.table import  Table\n",
    "def print_model(m):\n",
    "    _comp = []\n",
    "    _name = []\n",
    "    _val = []\n",
    "    _unit = []\n",
    "    _err = []\n",
    "    _froz = []\n",
    "    colnames = ['component', 'par name', 'value', 'units', 'error', 'frozen']\n",
    "    for model_name in m.componentNames:\n",
    "        fit_model = getattr(m, model_name)\n",
    "        for name in fit_model.parameterNames:\n",
    "            p = getattr(fit_model, name)\n",
    "            _comp.append('%s' % (model_name))\n",
    "            _name.append('%s' % (p.name))\n",
    "            _val.append('%5.5f' % p.values[0])\n",
    "            _unit.append('%s' % p.unit)\n",
    "            _err.append('%5.5f' % p.sigma)\n",
    "            _froz.append('%s' % p.frozen)\n",
    "\n",
    "    t=Table([_comp, _name, _val, _unit, _err, _froz],names=colnames)\n",
    "    print(t)"
   ]
  },
  {
   "cell_type": "code",
   "execution_count": null,
   "metadata": {},
   "outputs": [],
   "source": [
    "import shutil\n",
    "from IPython.display import Image\n",
    "from IPython.display import display \n",
    "def plot_spectrum(what = \"euf del\", units = \"keV\", rebin = 0, command = \"\"):\n",
    "    '''\n",
    "    Possible unit formats are: \"channel\", \"MeV\", \"Hz\", \"angstrom\"\n",
    "    rebin: minSig, maxBins, groupNum, errType \n",
    "    '''\n",
    "#    xsp.Plot.addCommand(\"setplot delete all\")\n",
    "#    xsp.Plot.commands = ()\n",
    "    xsp.Plot.device=\"/png\"\n",
    "    xsp.Plot.xAxis=units\n",
    "    xsp.Plot.background = True\n",
    "    xsp.Plot(what)\n",
    "\n",
    "#    if command:\n",
    "#        xsp.Plot.addCommand(command)\n",
    "    #xspec.Plot.addCommand(\"setplot en\")\n",
    "#    xsp.Plot.xLog = False\n",
    "#    xsp.Plot.yLog = False\n",
    "#    xsp.Plot(\"ufspec\")\n",
    "#    xsp.Plot(\"data\")\n",
    "#    xsp.Plot(\"model\")\n",
    "#    xsp.Plot(\"data chisq\")\n",
    "#    xsp.Plot(\"data\",\"model\",\"resid\")\n",
    "\n",
    "#    xsp.Plot.setRebin(minSig=10, maxBins=30, groupNum=1, errType=\"quad\") #DOES NOT WORK\n",
    "#    if bool(rebin):\n",
    "#        print rebin\n",
    "#        xsp.Plot.addCommand(\"setPlot rebin %s\" % (rebin))\n",
    "#    else:\n",
    "#        print \"no rebin\"\n",
    "#        xsp.Plot.addCommand(\"setplot delete all\")\n",
    "#        xsp.Plot.commands = ()\n",
    "#    print xsp.Plot.commands\n",
    "\n",
    "    xsp.Plot.device=\"/png\"\n",
    "\n",
    "    fn=\"test.png\"\n",
    "\n",
    "\n",
    "    shutil.move(\"pgplot.png_2\", fn)\n",
    "\n",
    "    _=display(Image(filename=fn,format=\"png\"))"
   ]
  },
  {
   "cell_type": "code",
   "execution_count": null,
   "metadata": {},
   "outputs": [],
   "source": [
    "def get_stats():\n",
    "    chi2_red=xsp.Fit.statistic/xsp.Fit.dof\n",
    "    chi2=xsp.Fit.statistic\n",
    "    ndof=xsp.Fit.dof\n",
    "    \n",
    "    return chi2_red, chi2, ndof"
   ]
  },
  {
   "cell_type": "code",
   "execution_count": null,
   "metadata": {},
   "outputs": [],
   "source": [
    "from future import *\n",
    "import pprint\n",
    "import xspec as xsp\n",
    "xsp.Xset.allowPrompting \n",
    "xsp.AllModels.clear()\n",
    "xsp.AllData.clear()\n",
    "xsp.AllChains.clear()\n",
    "\n",
    "s = xsp.Spectrum('data/spec.fits')\n",
    "\n",
    "s.response = 'data/rmf.fits'\n",
    "s.response.arf = 'data/arf.fits'\n",
    "\n",
    "s.ignore('**-15')\n",
    "s.ignore('300-**')\n",
    "xsp.AllData.ignore('bad')\n",
    "\n",
    "model_name = 'wabs*po'\n",
    "\n",
    "m = xsp.Model(model_name)"
   ]
  },
  {
   "cell_type": "code",
   "execution_count": null,
   "metadata": {},
   "outputs": [],
   "source": [
    "print_model(m)"
   ]
  },
  {
   "cell_type": "code",
   "execution_count": null,
   "metadata": {},
   "outputs": [],
   "source": [
    "xsp.Fit.query = 'yes'\n",
    "xsp.Fit.perform()"
   ]
  },
  {
   "cell_type": "code",
   "execution_count": null,
   "metadata": {},
   "outputs": [],
   "source": [
    "print_model(m)"
   ]
  },
  {
   "cell_type": "code",
   "execution_count": null,
   "metadata": {},
   "outputs": [],
   "source": [
    "chi2_red, chi2, ndof =get_stats()\n",
    "print('chi_red',chi2_red)\n",
    "print('chi',chi2)\n",
    "print('ndof',ndof)"
   ]
  },
  {
   "cell_type": "code",
   "execution_count": null,
   "metadata": {},
   "outputs": [],
   "source": [
    "plot_spectrum()"
   ]
  },
  {
   "cell_type": "code",
   "execution_count": null,
   "metadata": {},
   "outputs": [],
   "source": [
    "xsp.AllModels.calcFlux(\"50. 100.\")\n",
    "s1 = xsp.AllData(1)\n",
    "s1.flux"
   ]
  },
  {
   "cell_type": "code",
   "execution_count": null,
   "metadata": {},
   "outputs": [],
   "source": [
    "# Luminosity(enMin, enMax, redshift)\n",
    "xsp.AllModels.calcLumin(\"50. 100. .05\")\n",
    "s1 = xsp.AllData(1)\n",
    "s1.lumin"
   ]
  },
  {
   "cell_type": "code",
   "execution_count": null,
   "metadata": {},
   "outputs": [],
   "source": [
    "#Estimate the 90% confidence range for the 2nd parameter\n",
    "xsp.Fit.error(\"2.706 2\")\n",
    "par2 = xsp.AllModels(1)(2)\n",
    "par2.error"
   ]
  },
  {
   "cell_type": "markdown",
   "metadata": {
    "collapsed": true
   },
   "source": [
    "# Load another spectra (NGC 7582)"
   ]
  },
  {
   "cell_type": "code",
   "execution_count": null,
   "metadata": {},
   "outputs": [],
   "source": [
    "cd data"
   ]
  },
  {
   "cell_type": "code",
   "execution_count": null,
   "metadata": {},
   "outputs": [],
   "source": [
    "xsp.AllModels.clear()\n",
    "xsp.AllData.clear()\n",
    "xsp.AllChains.clear()\n",
    "\n",
    "s = xsp.Spectrum('nu_ngc7582_sr-30.pha')\n",
    "#s.response = 'data/rmf.fits'\n",
    "#s.response.arf = 'data/arf.fits'\n",
    "\n",
    "#s.ignore('**-15')\n",
    "#s.ignore('300-**')\n",
    "xsp.AllData.ignore('bad')\n",
    "\n",
    "# Try to fit first with a simple powlaw\n",
    "m = xsp.Model('po')"
   ]
  },
  {
   "cell_type": "code",
   "execution_count": null,
   "metadata": {},
   "outputs": [],
   "source": [
    "print_model(m)"
   ]
  },
  {
   "cell_type": "code",
   "execution_count": null,
   "metadata": {},
   "outputs": [],
   "source": [
    "xsp.Fit.query = 'yes'\n",
    "xsp.Fit.perform()"
   ]
  },
  {
   "cell_type": "code",
   "execution_count": null,
   "metadata": {},
   "outputs": [],
   "source": [
    "print_model(m)"
   ]
  },
  {
   "cell_type": "code",
   "execution_count": null,
   "metadata": {},
   "outputs": [],
   "source": [
    "chi2_red, chi2, ndof = get_stats()\n",
    "print('chi_red',chi2_red)\n",
    "print('chi',chi2)\n",
    "print('ndof',ndof)"
   ]
  },
  {
   "cell_type": "code",
   "execution_count": null,
   "metadata": {},
   "outputs": [],
   "source": [
    "plot_spectrum(\"euf del chisq\")"
   ]
  },
  {
   "cell_type": "code",
   "execution_count": null,
   "metadata": {},
   "outputs": [],
   "source": [
    "xsp.AllModels.clear()\n",
    "# Add then the absorption\n",
    "m = xsp.Model('wabs*po')"
   ]
  },
  {
   "cell_type": "markdown",
   "metadata": {},
   "source": [
    " List of Xspec models:\n",
    " https://heasarc.gsfc.nasa.gov/xanadu/xspec/manual/Models.html"
   ]
  },
  {
   "cell_type": "code",
   "execution_count": null,
   "metadata": {},
   "outputs": [],
   "source": [
    "print_model(m)"
   ]
  },
  {
   "cell_type": "code",
   "execution_count": null,
   "metadata": {},
   "outputs": [],
   "source": [
    "m.componentNames"
   ]
  },
  {
   "cell_type": "code",
   "execution_count": null,
   "metadata": {},
   "outputs": [],
   "source": [
    "# Component objects are accessible-by-name as Model object attributes:\n",
    "comp1 = m.wabs\n",
    "comp2 = m.powerlaw"
   ]
  },
  {
   "cell_type": "code",
   "execution_count": null,
   "metadata": {},
   "outputs": [],
   "source": [
    "comp1.parameterNames"
   ]
  },
  {
   "cell_type": "code",
   "execution_count": null,
   "metadata": {},
   "outputs": [],
   "source": [
    "comp2.parameterNames"
   ]
  },
  {
   "cell_type": "code",
   "execution_count": null,
   "metadata": {},
   "outputs": [],
   "source": [
    "# Parameter objects are accessible-by-name as Component object attributes:\n",
    "par3 = comp2.norm"
   ]
  },
  {
   "cell_type": "code",
   "execution_count": null,
   "metadata": {},
   "outputs": [],
   "source": [
    "# value, fit delta, min, bot, top, max\n",
    "par3.values"
   ]
  },
  {
   "cell_type": "code",
   "execution_count": null,
   "metadata": {},
   "outputs": [],
   "source": [
    "# ...and we can modify their values:\n",
    "par3.values = 0.003\n",
    "m.wabs.nH = 20\n",
    "comp2.PhoIndex = 1.5\n",
    "'''\n",
    "# Can also get a Parameter object directly from a Model, without going\n",
    "# through a Component.  Just pass the Model the Parameter index number:\n",
    "par5 = m(3)\n",
    "\n",
    "# Examples of numerical operations allowed with Parameter objects:\n",
    "par3 += 0.75\n",
    "par3 *= 2.0\n",
    "y1 = m1.phabs.nH*100.0\n",
    "y2 = par4 + par5\n",
    "'''"
   ]
  },
  {
   "cell_type": "code",
   "execution_count": null,
   "metadata": {},
   "outputs": [],
   "source": [
    "print_model(m)"
   ]
  },
  {
   "cell_type": "code",
   "execution_count": null,
   "metadata": {},
   "outputs": [],
   "source": [
    "plot_spectrum()"
   ]
  },
  {
   "cell_type": "code",
   "execution_count": null,
   "metadata": {},
   "outputs": [],
   "source": [
    "xsp.Fit.query = 'yes'\n",
    "xsp.Fit.perform()\n",
    "\n",
    "chi2_red, chi2, ndof = get_stats()\n",
    "print('chi_red',chi2_red)\n",
    "print('chi',chi2)\n",
    "print('ndof',ndof)"
   ]
  },
  {
   "cell_type": "code",
   "execution_count": null,
   "metadata": {},
   "outputs": [],
   "source": [
    "print_model(m)"
   ]
  },
  {
   "cell_type": "code",
   "execution_count": null,
   "metadata": {},
   "outputs": [],
   "source": [
    "plot_spectrum()"
   ]
  },
  {
   "cell_type": "code",
   "execution_count": null,
   "metadata": {},
   "outputs": [],
   "source": [
    "xsp.AllModels.clear()\n",
    "# Use a more appropriate model\n",
    "m = xsp.Model('zphabs*(pexrav)')"
   ]
  },
  {
   "cell_type": "code",
   "execution_count": null,
   "metadata": {},
   "outputs": [],
   "source": [
    "print_model(m)"
   ]
  },
  {
   "cell_type": "code",
   "execution_count": null,
   "metadata": {},
   "outputs": [],
   "source": [
    "plot_spectrum()"
   ]
  },
  {
   "cell_type": "code",
   "execution_count": null,
   "metadata": {},
   "outputs": [],
   "source": [
    "xsp.Fit.renorm()"
   ]
  },
  {
   "cell_type": "code",
   "execution_count": null,
   "metadata": {},
   "outputs": [],
   "source": [
    "plot_spectrum()"
   ]
  },
  {
   "cell_type": "code",
   "execution_count": null,
   "metadata": {},
   "outputs": [],
   "source": [
    "print_model(m)"
   ]
  },
  {
   "cell_type": "code",
   "execution_count": null,
   "metadata": {},
   "outputs": [],
   "source": [
    "xsp.Fit.query = 'yes'\n",
    "xsp.Fit.perform()\n",
    "\n",
    "chi2_red, chi2, ndof = get_stats()\n",
    "print('chi_red',chi2_red)\n",
    "print('chi',chi2)\n",
    "print('ndof',ndof)"
   ]
  },
  {
   "cell_type": "code",
   "execution_count": null,
   "metadata": {},
   "outputs": [],
   "source": [
    "print_model(m)"
   ]
  },
  {
   "cell_type": "code",
   "execution_count": null,
   "metadata": {},
   "outputs": [],
   "source": [
    "plot_spectrum()"
   ]
  },
  {
   "cell_type": "code",
   "execution_count": null,
   "metadata": {},
   "outputs": [],
   "source": [
    "plot_spectrum(\"euf del chisq\")"
   ]
  },
  {
   "cell_type": "code",
   "execution_count": null,
   "metadata": {},
   "outputs": [],
   "source": [
    "# Finally use an appropriately more complex model\n",
    "# m3 = xsp.Model('zphabs*(pexrav+zgauss)')"
   ]
  },
  {
   "cell_type": "markdown",
   "metadata": {},
   "source": [
    "# Load another spectra (NGC 5548)"
   ]
  },
  {
   "cell_type": "code",
   "execution_count": null,
   "metadata": {},
   "outputs": [],
   "source": [
    "xsp.AllModels.clear()\n",
    "xsp.AllData.clear()\n",
    "xsp.AllChains.clear()\n",
    "\n",
    "s = xsp.Spectrum(\"nu_ngc5548_obs1_sr-30.pha\")"
   ]
  },
  {
   "cell_type": "code",
   "execution_count": null,
   "metadata": {},
   "outputs": [],
   "source": []
  },
  {
   "cell_type": "code",
   "execution_count": null,
   "metadata": {},
   "outputs": [],
   "source": []
  }
 ],
 "metadata": {
  "kernelspec": {
   "display_name": "Python 3",
   "language": "python",
   "name": "python3"
  },
  "language_info": {
   "codemirror_mode": {
    "name": "ipython",
    "version": 3
   },
   "file_extension": ".py",
   "mimetype": "text/x-python",
   "name": "python",
   "nbconvert_exporter": "python",
   "pygments_lexer": "ipython3",
   "version": "3.7.3"
  }
 },
 "nbformat": 4,
 "nbformat_minor": 4
}
