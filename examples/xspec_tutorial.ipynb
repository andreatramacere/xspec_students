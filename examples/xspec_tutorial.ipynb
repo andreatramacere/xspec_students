{
 "cells": [
  {
   "cell_type": "code",
   "execution_count": 43,
   "metadata": {},
   "outputs": [],
   "source": [
    "import xspec as xsp\n",
    "\n",
    "xsp.AllModels.clear()\n",
    "xsp.AllData.clear()\n",
    "xsp.AllChains.clear()\n",
    "\n",
    "s = xsp.Spectrum('data/spec.fits')\n",
    "\n",
    "s.response = 'data/rmf.fits'\n",
    "s.response.arf = 'data/arf.fits'\n",
    "\n",
    "s.ignore('**-15')\n",
    "s.ignore('300-**')\n",
    "xsp.AllData.ignore('bad')\n",
    "\n",
    "model_name = 'phabs*po'\n",
    "\n",
    "m = xsp.Model(model_name)\n",
    "\n"
   ]
  },
  {
   "cell_type": "code",
   "execution_count": 13,
   "metadata": {},
   "outputs": [],
   "source": [
    "xsp.Fit.query = 'yes'\n",
    "xsp.Fit.perform()"
   ]
  },
  {
   "cell_type": "code",
   "execution_count": 53,
   "metadata": {},
   "outputs": [],
   "source": [
    "m.show()"
   ]
  },
  {
   "cell_type": "code",
   "execution_count": 14,
   "metadata": {},
   "outputs": [],
   "source": [
    "import matplotlib.pyplot as plt\n"
   ]
  },
  {
   "cell_type": "code",
   "execution_count": 27,
   "metadata": {},
   "outputs": [],
   "source": [
    "xsp.Plot.device = '/null'\n",
    "\n",
    "xsp.Plot.xLog = True\n",
    "xsp.Plot.yLog = True\n",
    "xsp.Plot.setRebin(10., 10)\n",
    "xsp.Plot.xAxis = 'keV'\n",
    "# Plot(\"data\",\"model\",\"resid\")\n",
    "# Plot(\"data model resid\")\n",
    "xsp.Plot(\"data,delchi\")\n",
    "\n",
    "chans = xsp.Plot.x()\n",
    "rates = xsp.Plot.y()\n",
    "folded = xsp.Plot.model()"
   ]
  },
  {
   "cell_type": "code",
   "execution_count": 28,
   "metadata": {},
   "outputs": [
    {
     "data": {
      "image/png": "[encoded data removed]",
      "text/plain": [
       "<Figure size 432x288 with 1 Axes>"
      ]
     },
     "metadata": {
      "needs_background": "light"
     },
     "output_type": "display_data"
    }
   ],
   "source": [
    "plt.loglog(chans, rates, 'ro', chans, folded)\n",
    "plt.xlabel('channels')\n",
    "plt.ylabel('counts/cm^2/sec/chan')\n",
    "plt.savefig('myplot')"
   ]
  },
  {
   "cell_type": "code",
   "execution_count": null,
   "metadata": {},
   "outputs": [],
   "source": []
  }
 ],
 "metadata": {
  "kernelspec": {
   "display_name": "Python 2",
   "language": "python",
   "name": "python2"
  },
  "language_info": {
   "codemirror_mode": {
    "name": "ipython",
    "version": 2
   },
   "file_extension": ".py",
   "mimetype": "text/x-python",
   "name": "python",
   "nbconvert_exporter": "python",
   "pygments_lexer": "ipython2",
   "version": "2.7.15"
  }
 },
 "nbformat": 4,
 "nbformat_minor": 4
}
