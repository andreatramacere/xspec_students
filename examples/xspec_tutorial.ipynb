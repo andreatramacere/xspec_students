{
 "cells": [
  {
   "cell_type": "code",
   "execution_count": 34,
   "metadata": {},
   "outputs": [],
   "source": [
    "from astropy.table import  Table\n",
    "def print_model(m):\n",
    "    _comp = []\n",
    "    _name = []\n",
    "    _val = []\n",
    "    _unit = []\n",
    "    _err = []\n",
    "    colnames = ['component', 'par name', 'value', 'units', 'error']\n",
    "    for model_name in m.componentNames:\n",
    "        fit_model = getattr(m, model_name)\n",
    "        for name in fit_model.parameterNames:\n",
    "            p = getattr(fit_model, name)\n",
    "            _comp.append('%s' % (model_name))\n",
    "            _name.append('%s' % (p.name))\n",
    "            _val.append('%5.5f' % p.values[0])\n",
    "            _unit.append('%s' % p.unit)\n",
    "            _err.append('%5.5f' % p.sigma)\n",
    "\n",
    "    t=Table([_comp, _name, _val, _unit, _err],names=colnames)\n",
    "    print(t)"
   ]
  },
  {
   "cell_type": "code",
   "execution_count": 40,
   "metadata": {},
   "outputs": [],
   "source": [
    "from future import *\n",
    "import pprint\n",
    "import xspec as xsp\n",
    "xsp.Xset.allowPrompting \n",
    "xsp.AllModels.clear()\n",
    "xsp.AllData.clear()\n",
    "xsp.AllChains.clear()\n",
    "\n",
    "s = xsp.Spectrum('data/spec.fits')\n",
    "\n",
    "s.response = 'data/rmf.fits'\n",
    "s.response.arf = 'data/arf.fits'\n",
    "\n",
    "s.ignore('**-15')\n",
    "s.ignore('300-**')\n",
    "xsp.AllData.ignore('bad')\n",
    "\n",
    "model_name = 'wabs*po'\n",
    "\n",
    "m = xsp.Model(model_name)\n",
    "\n"
   ]
  },
  {
   "cell_type": "code",
   "execution_count": 41,
   "metadata": {},
   "outputs": [
    {
     "name": "stdout",
     "output_type": "stream",
     "text": [
      "component par name  value  units  error \n",
      "--------- -------- ------- ----- -------\n",
      "     wabs       nH 1.00000 10^22 0.00000\n",
      " powerlaw PhoIndex 1.00000       0.00000\n",
      " powerlaw     norm 1.00000       0.00000\n"
     ]
    }
   ],
   "source": [
    "print_model(m)"
   ]
  },
  {
   "cell_type": "code",
   "execution_count": 42,
   "metadata": {},
   "outputs": [],
   "source": [
    "xsp.Fit.query = 'yes'\n",
    "xsp.Fit.perform()"
   ]
  },
  {
   "cell_type": "code",
   "execution_count": 43,
   "metadata": {},
   "outputs": [
    {
     "name": "stdout",
     "output_type": "stream",
     "text": [
      "component par name  value   units  error  \n",
      "--------- -------- -------- ----- --------\n",
      "     wabs       nH  0.00004 10^22 -1.00000\n",
      " powerlaw PhoIndex  3.35376        0.35829\n",
      " powerlaw     norm 59.31030       76.31400\n"
     ]
    }
   ],
   "source": [
    "print_model(m)"
   ]
  },
  {
   "cell_type": "code",
   "execution_count": 44,
   "metadata": {},
   "outputs": [],
   "source": [
    "import matplotlib.pyplot as plt\n"
   ]
  },
  {
   "cell_type": "code",
   "execution_count": 45,
   "metadata": {},
   "outputs": [],
   "source": [
    "xsp.Plot.device = '/null'\n",
    "\n",
    "xsp.Plot.xLog = True\n",
    "xsp.Plot.yLog = True\n",
    "xsp.Plot.setRebin(10., 10)\n",
    "xsp.Plot.xAxis = 'keV'\n",
    "# Plot(\"data\",\"model\",\"resid\")\n",
    "# Plot(\"data model resid\")\n",
    "xsp.Plot(\"data,delchi\")\n",
    "\n",
    "chans = xsp.Plot.x()\n",
    "rates = xsp.Plot.y()\n",
    "folded = xsp.Plot.model()"
   ]
  },
  {
   "cell_type": "code",
   "execution_count": 46,
   "metadata": {},
   "outputs": [
    {
     "data": {
      "image/png": "[encoded data removed]",
      "text/plain": [
       "<Figure size 432x288 with 1 Axes>"
      ]
     },
     "metadata": {
      "needs_background": "light"
     },
     "output_type": "display_data"
    }
   ],
   "source": [
    "plt.loglog(chans, rates, 'ro', chans, folded)\n",
    "plt.xlabel('channels')\n",
    "plt.ylabel('counts/cm^2/sec/chan')\n",
    "plt.savefig('myplot')"
   ]
  },
  {
   "cell_type": "code",
   "execution_count": null,
   "metadata": {},
   "outputs": [],
   "source": []
  }
 ],
 "metadata": {
  "kernelspec": {
   "display_name": "Python 2",
   "language": "python",
   "name": "python2"
  },
  "language_info": {
   "codemirror_mode": {
    "name": "ipython",
    "version": 2
   },
   "file_extension": ".py",
   "mimetype": "text/x-python",
   "name": "python",
   "nbconvert_exporter": "python",
   "pygments_lexer": "ipython2",
   "version": "2.7.15"
  }
 },
 "nbformat": 4,
 "nbformat_minor": 4
}
