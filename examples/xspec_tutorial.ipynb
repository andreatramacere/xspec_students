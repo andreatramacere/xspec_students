{
 "cells": [
  {
   "cell_type": "markdown",
   "metadata": {},
   "source": [
    "# After the introductive slides on Xspec... let's try to interactively work with PyXspec now, starting from this template..."
   ]
  },
  {
   "cell_type": "code",
   "execution_count": 1,
   "metadata": {},
   "outputs": [
    {
     "data": {
      "text/html": [
       "<style>.container { width:80% !important; }</style>"
      ],
      "text/plain": [
       "<IPython.core.display.HTML object>"
      ]
     },
     "metadata": {},
     "output_type": "display_data"
    }
   ],
   "source": [
    "from IPython.core.display import display, HTML\n",
    "display(HTML(\"<style>.container { width:80% !important; }</style>\"))"
   ]
  },
  {
   "cell_type": "code",
   "execution_count": 2,
   "metadata": {},
   "outputs": [],
   "source": [
    "from astropy.table import  Table\n",
    "def print_model(m):\n",
    "    _comp = []\n",
    "    _name = []\n",
    "    _val = []\n",
    "    _unit = []\n",
    "    _err = []\n",
    "    _step = []\n",
    "    _min = []\n",
    "    _max = []\n",
    "    _froz = []\n",
    "    colnames = ['component', 'par name', 'value', 'units', 'error', 'step', 'min', 'max', 'frozen']\n",
    "    for model_name in m.componentNames:\n",
    "        fit_model = getattr(m, model_name)\n",
    "        for name in fit_model.parameterNames:\n",
    "            p = getattr(fit_model, name)\n",
    "            _comp.append('%s' % (model_name))\n",
    "            _name.append('%s' % (p.name))\n",
    "            _val.append('%5.4f' % p.values[0])\n",
    "            _unit.append('%s' % p.unit)\n",
    "            _err.append('%5.4f' % p.sigma)\n",
    "            _step.append('%5.4f' % p.values[1])\n",
    "            _min.append('%5.2e' % p.values[2])\n",
    "            _max.append('%5.2e' % p.values[4])\n",
    "            _froz.append('%s' % p.frozen)\n",
    "\n",
    "    t=Table([_comp, _name, _val, _unit, _err, _step, _min, _max, _froz],names=colnames)\n",
    "    print(t)"
   ]
  },
  {
   "cell_type": "code",
   "execution_count": 3,
   "metadata": {},
   "outputs": [],
   "source": [
    "import shutil\n",
    "from IPython.display import Image\n",
    "from IPython.display import display \n",
    "def plot_spectrum(what = \"euf del\", units = \"keV\", minSig=0, maxBins=1, command = \"\"):\n",
    "    '''\n",
    "    Possible unit formats are: \"channel\", \"MeV\", \"Hz\", \"angstrom\"\n",
    "    rebin: minSig, maxBins, groupNum, errType \n",
    "    '''\n",
    "#    xsp.Plot.addCommand(\"setplot delete all\")\n",
    "#    xsp.Plot.commands = ()\n",
    "    xsp.Plot.device=\"/png\"\n",
    "    xsp.Plot.xAxis=units\n",
    "    xsp.Plot.background = True\n",
    "    xsp.Plot.setRebin(minSig=minSig, maxBins=maxBins)#, groupNum=1, errType=\"quad\") #DOES NOT WORK\n",
    "    if command:\n",
    "        xsp.Plot.addCommand(command)    \n",
    "    xsp.Plot(what)\n",
    "\n",
    "    #xspec.Plot.addCommand(\"setplot en\")\n",
    "#    xsp.Plot.xLog = False\n",
    "#    xsp.Plot.yLog = False\n",
    "#    xsp.Plot(\"ufspec\")\n",
    "#    xsp.Plot(\"data\")\n",
    "#    xsp.Plot(\"model\")\n",
    "#    xsp.Plot(\"data chisq\")\n",
    "#    xsp.Plot(\"data\",\"model\",\"resid\")\n",
    "\n",
    "#    xsp.Plot.setRebin(minSig=10, maxBins=30, groupNum=1, errType=\"quad\") #DOES NOT WORK\n",
    "#    if bool(rebin):\n",
    "#        print rebin\n",
    "#        xsp.Plot.addCommand(\"setPlot rebin %s\" % (rebin))\n",
    "#    else:\n",
    "#        print \"no rebin\"\n",
    "#        xsp.Plot.addCommand(\"setplot delete all\")\n",
    "#        xsp.Plot.commands = ()\n",
    "#    print xsp.Plot.commands\n",
    "\n",
    "    xsp.Plot.device=\"/png\"\n",
    "\n",
    "    fn=\"test.png\"\n",
    "\n",
    "\n",
    "    shutil.move(\"pgplot.png_2\", fn)\n",
    "\n",
    "    _=display(Image(filename=fn,format=\"png\"))\n",
    "    \n",
    "    return xsp.Plot"
   ]
  },
  {
   "cell_type": "code",
   "execution_count": 4,
   "metadata": {},
   "outputs": [],
   "source": [
    "def get_stats():\n",
    "    chi2_red=xsp.Fit.statistic/xsp.Fit.dof\n",
    "    chi2=xsp.Fit.statistic\n",
    "    ndof=xsp.Fit.dof\n",
    "    \n",
    "    return chi2_red, chi2, ndof"
   ]
  },
  {
   "cell_type": "code",
   "execution_count": 5,
   "metadata": {},
   "outputs": [],
   "source": [
    "from future import *\n",
    "import pprint\n",
    "import xspec as xsp"
   ]
  },
  {
   "cell_type": "code",
   "execution_count": 6,
   "metadata": {},
   "outputs": [],
   "source": [
    "xsp.Xset.allowPrompting \n",
    "xsp.AllModels.clear()\n",
    "xsp.AllData.clear()\n",
    "xsp.AllChains.clear()\n",
    "\n",
    "# Load the spectrum file\n",
    "s = xsp.Spectrum('data/spec.fits')\n",
    "# Load the response file (Energy vs. channels)\n",
    "s.response = 'data/rmf.fits'\n",
    "# Load the arf file (Effective Area vs. Energy)\n",
    "s.response.arf = 'data/arf.fits'"
   ]
  },
  {
   "cell_type": "code",
   "execution_count": 7,
   "metadata": {},
   "outputs": [
    {
     "data": {
      "image/png": "[encoded data removed]",
      "text/plain": [
       "<IPython.core.display.Image object>"
      ]
     },
     "metadata": {},
     "output_type": "display_data"
    },
    {
     "data": {
      "text/plain": [
       "[1,\n",
       " 2,\n",
       " 3,\n",
       " 4,\n",
       " 5,\n",
       " 6,\n",
       " 7,\n",
       " 8,\n",
       " 9,\n",
       " 10,\n",
       " 11,\n",
       " 12,\n",
       " 13,\n",
       " 14,\n",
       " 15,\n",
       " 16,\n",
       " 17,\n",
       " 18,\n",
       " 19,\n",
       " 20,\n",
       " 21,\n",
       " 22,\n",
       " 23,\n",
       " 24,\n",
       " 25,\n",
       " 26,\n",
       " 27,\n",
       " 28,\n",
       " 29,\n",
       " 30,\n",
       " 31,\n",
       " 32,\n",
       " 33,\n",
       " 34,\n",
       " 35,\n",
       " 36,\n",
       " 37,\n",
       " 38,\n",
       " 39,\n",
       " 40,\n",
       " 41,\n",
       " 42,\n",
       " 43,\n",
       " 44,\n",
       " 45,\n",
       " 46,\n",
       " 47,\n",
       " 48,\n",
       " 49,\n",
       " 50,\n",
       " 51,\n",
       " 52,\n",
       " 53,\n",
       " 54,\n",
       " 55,\n",
       " 56,\n",
       " 57,\n",
       " 58,\n",
       " 59,\n",
       " 60,\n",
       " 61,\n",
       " 62]"
      ]
     },
     "execution_count": 7,
     "metadata": {},
     "output_type": "execute_result"
    }
   ],
   "source": [
    "s.notice('all')\n",
    "plot_spectrum(what='ldata', units='ch')\n",
    "s.noticed"
   ]
  },
  {
   "cell_type": "code",
   "execution_count": 8,
   "metadata": {},
   "outputs": [
    {
     "data": {
      "text/plain": [
       "[2,\n",
       " 3,\n",
       " 4,\n",
       " 5,\n",
       " 6,\n",
       " 7,\n",
       " 8,\n",
       " 9,\n",
       " 10,\n",
       " 11,\n",
       " 12,\n",
       " 13,\n",
       " 14,\n",
       " 15,\n",
       " 16,\n",
       " 17,\n",
       " 18,\n",
       " 19,\n",
       " 20,\n",
       " 21,\n",
       " 22,\n",
       " 23,\n",
       " 24,\n",
       " 25,\n",
       " 26,\n",
       " 27,\n",
       " 28,\n",
       " 29,\n",
       " 30,\n",
       " 31,\n",
       " 32,\n",
       " 33,\n",
       " 34,\n",
       " 35,\n",
       " 36,\n",
       " 37,\n",
       " 38,\n",
       " 39,\n",
       " 40,\n",
       " 41,\n",
       " 42,\n",
       " 43,\n",
       " 44,\n",
       " 45,\n",
       " 46,\n",
       " 47,\n",
       " 48,\n",
       " 49,\n",
       " 50,\n",
       " 51,\n",
       " 52,\n",
       " 53,\n",
       " 54,\n",
       " 55,\n",
       " 56,\n",
       " 57,\n",
       " 58,\n",
       " 59,\n",
       " 60,\n",
       " 61,\n",
       " 62]"
      ]
     },
     "execution_count": 8,
     "metadata": {},
     "output_type": "execute_result"
    }
   ],
   "source": [
    "xsp.AllData.ignore('bad')\n",
    "s.noticed"
   ]
  },
  {
   "cell_type": "code",
   "execution_count": 9,
   "metadata": {},
   "outputs": [
    {
     "data": {
      "image/png": "[encoded data removed]",
      "text/plain": [
       "<IPython.core.display.Image object>"
      ]
     },
     "metadata": {},
     "output_type": "display_data"
    },
    {
     "data": {
      "text/plain": [
       "<xspec.plot.PlotManager at 0x7fb8cf594f90>"
      ]
     },
     "execution_count": 9,
     "metadata": {},
     "output_type": "execute_result"
    }
   ],
   "source": [
    "plot_spectrum(what='ldata', units='ch')"
   ]
  },
  {
   "cell_type": "code",
   "execution_count": 10,
   "metadata": {},
   "outputs": [],
   "source": [
    "s.ignore('**-2')\n",
    "s.ignore('60-**')"
   ]
  },
  {
   "cell_type": "code",
   "execution_count": 11,
   "metadata": {},
   "outputs": [
    {
     "data": {
      "image/png": "[encoded data removed]",
      "text/plain": [
       "<IPython.core.display.Image object>"
      ]
     },
     "metadata": {},
     "output_type": "display_data"
    },
    {
     "data": {
      "text/plain": [
       "[3,\n",
       " 4,\n",
       " 5,\n",
       " 6,\n",
       " 7,\n",
       " 8,\n",
       " 9,\n",
       " 10,\n",
       " 11,\n",
       " 12,\n",
       " 13,\n",
       " 14,\n",
       " 15,\n",
       " 16,\n",
       " 17,\n",
       " 18,\n",
       " 19,\n",
       " 20,\n",
       " 21,\n",
       " 22,\n",
       " 23,\n",
       " 24,\n",
       " 25,\n",
       " 26,\n",
       " 27,\n",
       " 28,\n",
       " 29,\n",
       " 30,\n",
       " 31,\n",
       " 32,\n",
       " 33,\n",
       " 34,\n",
       " 35,\n",
       " 36,\n",
       " 37,\n",
       " 38,\n",
       " 39,\n",
       " 40,\n",
       " 41,\n",
       " 42,\n",
       " 43,\n",
       " 44,\n",
       " 45,\n",
       " 46,\n",
       " 47,\n",
       " 48,\n",
       " 49,\n",
       " 50,\n",
       " 51,\n",
       " 52,\n",
       " 53,\n",
       " 54,\n",
       " 55,\n",
       " 56,\n",
       " 57,\n",
       " 58,\n",
       " 59]"
      ]
     },
     "execution_count": 11,
     "metadata": {},
     "output_type": "execute_result"
    }
   ],
   "source": [
    "plot_spectrum(what='ldata', units='ch')\n",
    "s.noticed"
   ]
  },
  {
   "cell_type": "code",
   "execution_count": 12,
   "metadata": {},
   "outputs": [
    {
     "data": {
      "image/png": "[encoded data removed]",
      "text/plain": [
       "<IPython.core.display.Image object>"
      ]
     },
     "metadata": {},
     "output_type": "display_data"
    },
    {
     "data": {
      "text/plain": [
       "<xspec.plot.PlotManager at 0x7fb8cf594f90>"
      ]
     },
     "execution_count": 12,
     "metadata": {},
     "output_type": "execute_result"
    }
   ],
   "source": [
    "plot_spectrum(what='ldata', units='keV')"
   ]
  },
  {
   "cell_type": "code",
   "execution_count": 13,
   "metadata": {},
   "outputs": [],
   "source": [
    "s.ignore('**-20.')\n",
    "s.ignore('300.-**')"
   ]
  },
  {
   "cell_type": "code",
   "execution_count": 14,
   "metadata": {},
   "outputs": [
    {
     "data": {
      "image/png": "[encoded data removed]",
      "text/plain": [
       "<IPython.core.display.Image object>"
      ]
     },
     "metadata": {},
     "output_type": "display_data"
    },
    {
     "data": {
      "text/plain": [
       "<xspec.plot.PlotManager at 0x7fb8cf594f90>"
      ]
     },
     "execution_count": 14,
     "metadata": {},
     "output_type": "execute_result"
    }
   ],
   "source": [
    "plot_spectrum(what='ldata', units='keV')"
   ]
  },
  {
   "cell_type": "code",
   "execution_count": 15,
   "metadata": {},
   "outputs": [
    {
     "data": {
      "text/plain": [
       "[2,\n",
       " 3,\n",
       " 4,\n",
       " 5,\n",
       " 6,\n",
       " 7,\n",
       " 8,\n",
       " 9,\n",
       " 10,\n",
       " 11,\n",
       " 12,\n",
       " 13,\n",
       " 14,\n",
       " 15,\n",
       " 16,\n",
       " 17,\n",
       " 18,\n",
       " 19,\n",
       " 20,\n",
       " 21,\n",
       " 22,\n",
       " 23,\n",
       " 24,\n",
       " 25,\n",
       " 26,\n",
       " 27,\n",
       " 28,\n",
       " 29,\n",
       " 30,\n",
       " 31,\n",
       " 32,\n",
       " 33,\n",
       " 34,\n",
       " 35,\n",
       " 36,\n",
       " 37,\n",
       " 38,\n",
       " 39,\n",
       " 40,\n",
       " 41,\n",
       " 42,\n",
       " 43,\n",
       " 44,\n",
       " 45,\n",
       " 46,\n",
       " 47,\n",
       " 48,\n",
       " 49,\n",
       " 50,\n",
       " 51,\n",
       " 52,\n",
       " 53,\n",
       " 54,\n",
       " 55,\n",
       " 56,\n",
       " 57,\n",
       " 58,\n",
       " 59,\n",
       " 60,\n",
       " 61,\n",
       " 62]"
      ]
     },
     "execution_count": 15,
     "metadata": {},
     "output_type": "execute_result"
    }
   ],
   "source": [
    "s.notice('all')\n",
    "xsp.AllData.ignore('bad')\n",
    "s.noticed"
   ]
  },
  {
   "cell_type": "code",
   "execution_count": null,
   "metadata": {},
   "outputs": [],
   "source": []
  },
  {
   "cell_type": "code",
   "execution_count": 37,
   "metadata": {},
   "outputs": [],
   "source": [
    "# Define a model\n",
    "m = xsp.Model('wabs*po')"
   ]
  },
  {
   "cell_type": "code",
   "execution_count": 38,
   "metadata": {},
   "outputs": [
    {
     "name": "stdout",
     "output_type": "stream",
     "text": [
      "component par name value  units error   step     min      max    frozen\n",
      "--------- -------- ------ ----- ------ ------ --------- -------- ------\n",
      "     wabs       nH 1.0000 10^22 0.0000 0.0100  0.00e+00 1.00e+05  False\n",
      " powerlaw PhoIndex 1.0000       0.0000 0.0100 -3.00e+00 9.00e+00  False\n",
      " powerlaw     norm 1.0000       0.0000 0.0100  0.00e+00 1.00e+20  False\n"
     ]
    }
   ],
   "source": [
    "print_model(m)"
   ]
  },
  {
   "cell_type": "code",
   "execution_count": 18,
   "metadata": {},
   "outputs": [],
   "source": [
    "# Component objects are accessible-by-name as Model object attributes:\n",
    "comp1 = m.wabs\n",
    "comp2 = m.powerlaw\n",
    "# Parameter objects are accessible-by-name as Component object attributes:\n",
    "par1 = m.wabs.nH\n",
    "par2 = m.powerlaw.PhoIndex\n",
    "# ...and we can modify their values:\n",
    "par2.values = 2.0\n",
    "m.wabs.nH = 1.5\n",
    "comp2.norm = 3.0\n",
    "\n",
    "# Can also get a Parameter object directly from a Model, without going\n",
    "# through a Component.  Just pass the Model the Parameter index number:\n",
    "par3 = m(3)"
   ]
  },
  {
   "cell_type": "code",
   "execution_count": 19,
   "metadata": {},
   "outputs": [
    {
     "name": "stdout",
     "output_type": "stream",
     "text": [
      "component par name value  units error   step     min      max    frozen\n",
      "--------- -------- ------ ----- ------ ------ --------- -------- ------\n",
      "     wabs       nH 1.5000 10^22 0.0000 0.0150  0.00e+00 1.00e+05  False\n",
      " powerlaw PhoIndex 2.0000       0.0000 0.0200 -3.00e+00 9.00e+00  False\n",
      " powerlaw     norm 3.0000       0.0000 0.0300  0.00e+00 1.00e+20  False\n"
     ]
    }
   ],
   "source": [
    "print_model(m)"
   ]
  },
  {
   "cell_type": "code",
   "execution_count": 20,
   "metadata": {},
   "outputs": [],
   "source": [
    "# Or you can use the 'setPars' method to change the value of a parameter\n",
    "# model.setPars({nPar:value})\n",
    "m.setPars({2:1.7}) # "
   ]
  },
  {
   "cell_type": "code",
   "execution_count": 21,
   "metadata": {},
   "outputs": [
    {
     "name": "stdout",
     "output_type": "stream",
     "text": [
      "component par name value  units error   step     min      max    frozen\n",
      "--------- -------- ------ ----- ------ ------ --------- -------- ------\n",
      "     wabs       nH 1.5000 10^22 0.0000 0.0150  0.00e+00 1.00e+05  False\n",
      " powerlaw PhoIndex 1.7000       0.0000 0.0170 -3.00e+00 9.00e+00  False\n",
      " powerlaw     norm 3.0000       0.0000 0.0300  0.00e+00 1.00e+20  False\n"
     ]
    }
   ],
   "source": [
    "print_model(m)"
   ]
  },
  {
   "cell_type": "code",
   "execution_count": 22,
   "metadata": {},
   "outputs": [],
   "source": [
    "# If you want to change e.g. the 'step' or 'boundary' you must use a list of 6 floats: [value, fit delta, min, bot, top, max]\n",
    "m.powerlaw.PhoIndex.values = [1.0, 0.01, -4.0, -3.0, 6.0, 7.0]"
   ]
  },
  {
   "cell_type": "code",
   "execution_count": 23,
   "metadata": {},
   "outputs": [
    {
     "name": "stdout",
     "output_type": "stream",
     "text": [
      "component par name value  units error   step     min      max    frozen\n",
      "--------- -------- ------ ----- ------ ------ --------- -------- ------\n",
      "     wabs       nH 1.5000 10^22 0.0000 0.0150  0.00e+00 1.00e+05  False\n",
      " powerlaw PhoIndex 1.0000       0.0000 0.0100 -4.00e+00 6.00e+00  False\n",
      " powerlaw     norm 3.0000       0.0000 0.0300  0.00e+00 1.00e+20  False\n"
     ]
    }
   ],
   "source": [
    "print_model(m)"
   ]
  },
  {
   "cell_type": "code",
   "execution_count": 24,
   "metadata": {},
   "outputs": [],
   "source": [
    "# To free / freeze a parameter:\n",
    "par2.frozen = False\n",
    "par3.frozen = True"
   ]
  },
  {
   "cell_type": "code",
   "execution_count": 25,
   "metadata": {},
   "outputs": [
    {
     "name": "stdout",
     "output_type": "stream",
     "text": [
      "component par name value  units error    step     min      max    frozen\n",
      "--------- -------- ------ ----- ------ ------- --------- -------- ------\n",
      "     wabs       nH 1.5000 10^22 0.0000  0.0150  0.00e+00 1.00e+05  False\n",
      " powerlaw PhoIndex 1.0000       0.0000  0.0100 -4.00e+00 6.00e+00  False\n",
      " powerlaw     norm 3.0000       0.0000 -0.0300  0.00e+00 1.00e+20   True\n"
     ]
    }
   ],
   "source": [
    "print_model(m)"
   ]
  },
  {
   "cell_type": "code",
   "execution_count": 26,
   "metadata": {},
   "outputs": [],
   "source": [
    "par1.link = \"3.3 * 2\" # Link par 1 to par 2 with a multiplicative constant 3.3\n",
    "par1.link = \"\" # Removes the link.\n",
    "par1.untie()   # Also removes the link."
   ]
  },
  {
   "cell_type": "code",
   "execution_count": 27,
   "metadata": {},
   "outputs": [
    {
     "name": "stdout",
     "output_type": "stream",
     "text": [
      "component par name value  units error    step     min      max    frozen\n",
      "--------- -------- ------ ----- ------ ------- --------- -------- ------\n",
      "     wabs       nH 3.3000 10^22 0.0000  0.0330  0.00e+00 1.00e+05  False\n",
      " powerlaw PhoIndex 1.0000       0.0000  0.0100 -4.00e+00 6.00e+00  False\n",
      " powerlaw     norm 3.0000       0.0000 -0.0300  0.00e+00 1.00e+20   True\n"
     ]
    }
   ],
   "source": [
    "print_model(m)"
   ]
  },
  {
   "cell_type": "code",
   "execution_count": 39,
   "metadata": {},
   "outputs": [],
   "source": [
    "xsp.Fit.query = 'yes'\n",
    "xsp.Fit.perform()"
   ]
  },
  {
   "cell_type": "code",
   "execution_count": 40,
   "metadata": {},
   "outputs": [
    {
     "name": "stdout",
     "output_type": "stream",
     "text": [
      "component par name value  units  error   step     min      max    frozen\n",
      "--------- -------- ------ ----- ------- ------ --------- -------- ------\n",
      "     wabs       nH 0.0000 10^22 -1.0000 0.0000  0.00e+00 1.00e+05  False\n",
      " powerlaw PhoIndex 2.7729        0.1564 0.0277 -3.00e+00 9.00e+00  False\n",
      " powerlaw     norm 6.7698        3.5186 0.0677  0.00e+00 1.00e+20  False\n"
     ]
    }
   ],
   "source": [
    "print_model(m)"
   ]
  },
  {
   "cell_type": "code",
   "execution_count": 41,
   "metadata": {},
   "outputs": [
    {
     "name": "stdout",
     "output_type": "stream",
     "text": [
      "('chi_red', 1.1289514226183408)\n",
      "('chi', 65.47918251186377)\n",
      "('ndof', 58)\n"
     ]
    }
   ],
   "source": [
    "chi2_red, chi2, ndof =get_stats()\n",
    "print('chi_red',chi2_red)\n",
    "print('chi',chi2)\n",
    "print('ndof',ndof)"
   ]
  },
  {
   "cell_type": "code",
   "execution_count": 42,
   "metadata": {},
   "outputs": [
    {
     "data": {
      "image/png": "[encoded data removed]",
      "text/plain": [
       "<IPython.core.display.Image object>"
      ]
     },
     "metadata": {},
     "output_type": "display_data"
    },
    {
     "data": {
      "text/plain": [
       "<xspec.plot.PlotManager at 0x7fb8cf594f90>"
      ]
     },
     "execution_count": 42,
     "metadata": {},
     "output_type": "execute_result"
    }
   ],
   "source": [
    "plot_spectrum(what='ldata', units='keV')"
   ]
  },
  {
   "cell_type": "code",
   "execution_count": 43,
   "metadata": {},
   "outputs": [
    {
     "name": "stdout",
     "output_type": "stream",
     "text": [
      "component par name value  units  error   step     min      max    frozen\n",
      "--------- -------- ------ ----- ------- ------ --------- -------- ------\n",
      "     wabs       nH 0.0000 10^22 -1.0000 0.0000  0.00e+00 1.00e+05  False\n",
      " powerlaw PhoIndex 2.7729        0.1564 0.0277 -3.00e+00 9.00e+00  False\n",
      " powerlaw     norm 6.7698        3.5186 0.0677  0.00e+00 1.00e+20  False\n"
     ]
    }
   ],
   "source": [
    "print_model(m)"
   ]
  },
  {
   "cell_type": "code",
   "execution_count": 44,
   "metadata": {},
   "outputs": [],
   "source": [
    "# Step parameter 3 from 1.5 to 2.5 in 10 linear steps\n",
    "xsp.Fit.steppar(\"2 1.7 3.7 10\")\n",
    "step2 = xsp.Fit.stepparResults('delstat')\n",
    "xsp.Fit.steppar(\"3 0.6 60. 10\")\n",
    "step3 = xsp.Fit.stepparResults('delstat')\n",
    "\n",
    "# Repeat the above but with logarithmic steps\n",
    "#xsp.Fit.steppar(\"log\")\n",
    "# Step parameter 2 linearly from -.2 to .2 in steps of .02\n",
    "#xsp.Fit.steppar(\"nolog 2 -.2 .2 20\")"
   ]
  },
  {
   "cell_type": "code",
   "execution_count": 45,
   "metadata": {},
   "outputs": [
    {
     "data": {
      "text/plain": [
       "[27.00300177,\n",
       " 0.004887634285,\n",
       " 1.513533816,\n",
       " 3.933290508,\n",
       " 6.291263822,\n",
       " 8.459460892,\n",
       " 10.43567491,\n",
       " 12.24092164,\n",
       " 13.89831986,\n",
       " 15.4284098,\n",
       " 16.84846401]"
      ]
     },
     "execution_count": 45,
     "metadata": {},
     "output_type": "execute_result"
    }
   ],
   "source": [
    "step3"
   ]
  },
  {
   "cell_type": "code",
   "execution_count": 70,
   "metadata": {},
   "outputs": [],
   "source": [
    "# Create and open a log file for XSPEC output\n",
    "# This returns a Python file object\n",
    "logFile = xsp.Xset.openLog(\"newLogFile.txt\")\n",
    "\n",
    "# commands with desired output:\n",
    "xsp.Fit.show()\n",
    "m.show()\n",
    "\n",
    "# Get the Python file object for the currently opened log\n",
    "logFile = xsp.Xset.log\n",
    "# Close XSPEC's currently opened log file.\n",
    "xsp.Xset.closeLog()"
   ]
  },
  {
   "cell_type": "code",
   "execution_count": 71,
   "metadata": {},
   "outputs": [],
   "source": [
    "less newLogFile.txt"
   ]
  },
  {
   "cell_type": "code",
   "execution_count": 34,
   "metadata": {},
   "outputs": [
    {
     "data": {
      "image/png": "[encoded data removed]",
      "text/plain": [
       "<IPython.core.display.Image object>"
      ]
     },
     "metadata": {},
     "output_type": "display_data"
    },
    {
     "data": {
      "text/plain": [
       "<xspec.plot.PlotManager at 0x7f1f67e3ee50>"
      ]
     },
     "execution_count": 34,
     "metadata": {},
     "output_type": "execute_result"
    }
   ],
   "source": [
    "plot_spectrum(what='eeuf delchi', units='keV')"
   ]
  },
  {
   "cell_type": "code",
   "execution_count": 33,
   "metadata": {},
   "outputs": [
    {
     "data": {
      "image/png": "[encoded data removed]",
      "text/plain": [
       "<IPython.core.display.Image object>"
      ]
     },
     "metadata": {},
     "output_type": "display_data"
    },
    {
     "data": {
      "text/plain": [
       "<xspec.plot.PlotManager at 0x7f1f67e3ee50>"
      ]
     },
     "execution_count": 33,
     "metadata": {},
     "output_type": "execute_result"
    }
   ],
   "source": [
    "plot_spectrum(what='eeuf delchi', units='keV', minSig=2, maxBins=10)"
   ]
  },
  {
   "cell_type": "code",
   "execution_count": 66,
   "metadata": {},
   "outputs": [
    {
     "data": {
      "text/plain": [
       "(2.8308584446727785e-10, 0.0, 0.0, 0.002627428141527263, 0.0, 0.0)"
      ]
     },
     "execution_count": 66,
     "metadata": {},
     "output_type": "execute_result"
    }
   ],
   "source": [
    "# 'AllModels' is a container for all models\n",
    "# 'AllData' is a container for all data\n",
    "xsp.AllModels.calcFlux(\"50. 100.\")\n",
    "s1 = xsp.AllData(1)\n",
    "s1.flux"
   ]
  },
  {
   "cell_type": "code",
   "execution_count": 67,
   "metadata": {},
   "outputs": [
    {
     "data": {
      "text/plain": [
       "(17.4028002217295, 0.0, 0.0, 0.002864845411424874, 0.0, 0.0)"
      ]
     },
     "execution_count": 67,
     "metadata": {},
     "output_type": "execute_result"
    }
   ],
   "source": [
    "# Luminosity(enMin, enMax, redshift)\n",
    "xsp.AllModels.calcLumin(\"50. 100. .05\")\n",
    "s1 = xsp.AllData(1)\n",
    "s1.lumin"
   ]
  },
  {
   "cell_type": "code",
   "execution_count": 68,
   "metadata": {},
   "outputs": [
    {
     "data": {
      "text/plain": [
       "(2.539904415825508, 3.0249329833074383, 'FFFFFFFFF')"
      ]
     },
     "execution_count": 68,
     "metadata": {},
     "output_type": "execute_result"
    }
   ],
   "source": [
    "#Estimate the 90% confidence range for the 2nd parameter\n",
    "xsp.Fit.error(\"2.706 2\")\n",
    "par2 = xsp.AllModels(1)(2)\n",
    "par2.error"
   ]
  },
  {
   "cell_type": "code",
   "execution_count": 73,
   "metadata": {},
   "outputs": [
    {
     "data": {
      "text/plain": [
       "(2.887005094813406, 3.681513749250193, 'FFFFFFFFF')"
      ]
     },
     "execution_count": 73,
     "metadata": {},
     "output_type": "execute_result"
    }
   ],
   "source": [
    "#Estimate the 90% confidence range for the 2nd parameter\n",
    "xsp.Fit.error(\"1. 2\")\n",
    "par2 = xsp.AllModels(1)(2)\n",
    "par2.error"
   ]
  },
  {
   "cell_type": "markdown",
   "metadata": {
    "collapsed": true
   },
   "source": [
    "# Load another spectra (NGC 7582)"
   ]
  },
  {
   "cell_type": "code",
   "execution_count": 109,
   "metadata": {},
   "outputs": [
    {
     "name": "stdout",
     "output_type": "stream",
     "text": [
      "/home/jovyan/examples/data\n"
     ]
    }
   ],
   "source": [
    "cd data"
   ]
  },
  {
   "cell_type": "code",
   "execution_count": 110,
   "metadata": {},
   "outputs": [],
   "source": [
    "xsp.AllModels.clear()\n",
    "xsp.AllData.clear()\n",
    "xsp.AllChains.clear()\n",
    "\n",
    "s = xsp.Spectrum('nu_ngc7582_sr-30.pha')\n",
    "#s.response = 'data/rmf.fits'\n",
    "#s.response.arf = 'data/arf.fits'\n",
    "\n",
    "#s.ignore('**-15')\n",
    "#s.ignore('300-**')\n",
    "xsp.AllData.ignore('bad')\n",
    "\n",
    "# Try to fit first with a simple powlaw\n",
    "m = xsp.Model('po')"
   ]
  },
  {
   "cell_type": "code",
   "execution_count": 111,
   "metadata": {},
   "outputs": [
    {
     "name": "stdout",
     "output_type": "stream",
     "text": [
      "component par name value  units error   step     min      max    frozen\n",
      "--------- -------- ------ ----- ------ ------ --------- -------- ------\n",
      " powerlaw PhoIndex 1.0000       0.0000 0.0100 -3.00e+00 9.00e+00  False\n",
      " powerlaw     norm 1.0000       0.0000 0.0100  0.00e+00 1.00e+20  False\n"
     ]
    }
   ],
   "source": [
    "print_model(m)"
   ]
  },
  {
   "cell_type": "code",
   "execution_count": 112,
   "metadata": {},
   "outputs": [],
   "source": [
    "xsp.Fit.query = 'yes'\n",
    "xsp.Fit.perform()"
   ]
  },
  {
   "cell_type": "code",
   "execution_count": 113,
   "metadata": {},
   "outputs": [
    {
     "name": "stdout",
     "output_type": "stream",
     "text": [
      "component par name value  units error   step     min      max    frozen\n",
      "--------- -------- ------ ----- ------ ------ --------- -------- ------\n",
      " powerlaw PhoIndex 0.8554       0.0090 0.0086 -3.00e+00 9.00e+00  False\n",
      " powerlaw     norm 0.0007       0.0000 0.0000  0.00e+00 1.00e+20  False\n"
     ]
    }
   ],
   "source": [
    "print_model(m)"
   ]
  },
  {
   "cell_type": "code",
   "execution_count": 114,
   "metadata": {},
   "outputs": [
    {
     "name": "stdout",
     "output_type": "stream",
     "text": [
      "('chi_red', 4.582694451648844)\n",
      "('chi', 2273.0164480178264)\n",
      "('ndof', 496)\n"
     ]
    }
   ],
   "source": [
    "chi2_red, chi2, ndof = get_stats()\n",
    "print('chi_red',chi2_red)\n",
    "print('chi',chi2)\n",
    "print('ndof',ndof)"
   ]
  },
  {
   "cell_type": "code",
   "execution_count": 115,
   "metadata": {},
   "outputs": [
    {
     "data": {
      "image/png": "[encoded data removed]",
      "text/plain": [
       "<IPython.core.display.Image object>"
      ]
     },
     "metadata": {},
     "output_type": "display_data"
    }
   ],
   "source": [
    "plot_spectrum(\"euf del chisq\")"
   ]
  },
  {
   "cell_type": "code",
   "execution_count": 116,
   "metadata": {},
   "outputs": [],
   "source": [
    "xsp.AllModels.clear()\n",
    "# Add then the absorption\n",
    "m = xsp.Model('wabs*po')"
   ]
  },
  {
   "cell_type": "markdown",
   "metadata": {},
   "source": [
    " List of Xspec models:\n",
    " https://heasarc.gsfc.nasa.gov/xanadu/xspec/manual/Models.html"
   ]
  },
  {
   "cell_type": "code",
   "execution_count": 117,
   "metadata": {},
   "outputs": [
    {
     "name": "stdout",
     "output_type": "stream",
     "text": [
      "component par name value  units error   step     min      max    frozen\n",
      "--------- -------- ------ ----- ------ ------ --------- -------- ------\n",
      "     wabs       nH 1.0000 10^22 0.0000 0.0100  0.00e+00 1.00e+05  False\n",
      " powerlaw PhoIndex 1.0000       0.0000 0.0100 -3.00e+00 9.00e+00  False\n",
      " powerlaw     norm 1.0000       0.0000 0.0100  0.00e+00 1.00e+20  False\n"
     ]
    }
   ],
   "source": [
    "print_model(m)"
   ]
  },
  {
   "cell_type": "code",
   "execution_count": 118,
   "metadata": {},
   "outputs": [
    {
     "data": {
      "text/plain": [
       "['wabs', 'powerlaw']"
      ]
     },
     "execution_count": 118,
     "metadata": {},
     "output_type": "execute_result"
    }
   ],
   "source": [
    "m.componentNames"
   ]
  },
  {
   "cell_type": "code",
   "execution_count": 119,
   "metadata": {},
   "outputs": [],
   "source": [
    "# Component objects are accessible-by-name as Model object attributes:\n",
    "comp1 = m.wabs\n",
    "comp2 = m.powerlaw"
   ]
  },
  {
   "cell_type": "code",
   "execution_count": 120,
   "metadata": {},
   "outputs": [
    {
     "data": {
      "text/plain": [
       "['nH']"
      ]
     },
     "execution_count": 120,
     "metadata": {},
     "output_type": "execute_result"
    }
   ],
   "source": [
    "comp1.parameterNames"
   ]
  },
  {
   "cell_type": "code",
   "execution_count": 121,
   "metadata": {},
   "outputs": [
    {
     "data": {
      "text/plain": [
       "['PhoIndex', 'norm']"
      ]
     },
     "execution_count": 121,
     "metadata": {},
     "output_type": "execute_result"
    }
   ],
   "source": [
    "comp2.parameterNames"
   ]
  },
  {
   "cell_type": "code",
   "execution_count": 122,
   "metadata": {},
   "outputs": [],
   "source": [
    "# Parameter objects are accessible-by-name as Component object attributes:\n",
    "par3 = comp2.norm"
   ]
  },
  {
   "cell_type": "code",
   "execution_count": 123,
   "metadata": {},
   "outputs": [
    {
     "data": {
      "text/plain": [
       "[1.0, 0.01, 0.0, 0.0, 1e+20, 1e+24]"
      ]
     },
     "execution_count": 123,
     "metadata": {},
     "output_type": "execute_result"
    }
   ],
   "source": [
    "# value, fit delta, min, bot, top, max\n",
    "par3.values"
   ]
  },
  {
   "cell_type": "code",
   "execution_count": 126,
   "metadata": {},
   "outputs": [],
   "source": [
    "# ...and we can modify their values:\n",
    "par3.values = 0.003\n",
    "m.wabs.nH = 20\n",
    "comp2.PhoIndex = 1.5"
   ]
  },
  {
   "cell_type": "code",
   "execution_count": 127,
   "metadata": {},
   "outputs": [
    {
     "name": "stdout",
     "output_type": "stream",
     "text": [
      "component par name  value  units error   step     min      max    frozen\n",
      "--------- -------- ------- ----- ------ ------ --------- -------- ------\n",
      "     wabs       nH 20.0000 10^22 0.0000 0.2000  0.00e+00 1.00e+05  False\n",
      " powerlaw PhoIndex  1.5000       0.0000 0.0150 -3.00e+00 9.00e+00  False\n",
      " powerlaw     norm  0.0030       0.0000 0.0000  0.00e+00 1.00e+20  False\n"
     ]
    }
   ],
   "source": [
    "print_model(m)"
   ]
  },
  {
   "cell_type": "code",
   "execution_count": 128,
   "metadata": {},
   "outputs": [
    {
     "data": {
      "image/png": "[encoded data removed]",
      "text/plain": [
       "<IPython.core.display.Image object>"
      ]
     },
     "metadata": {},
     "output_type": "display_data"
    }
   ],
   "source": [
    "plot_spectrum()"
   ]
  },
  {
   "cell_type": "code",
   "execution_count": 129,
   "metadata": {},
   "outputs": [
    {
     "name": "stdout",
     "output_type": "stream",
     "text": [
      "('chi_red', 1.3621702702889635)\n",
      "('chi', 674.274283793037)\n",
      "('ndof', 495)\n"
     ]
    }
   ],
   "source": [
    "xsp.Fit.query = 'yes'\n",
    "xsp.Fit.perform()\n",
    "\n",
    "chi2_red, chi2, ndof = get_stats()\n",
    "print('chi_red',chi2_red)\n",
    "print('chi',chi2)\n",
    "print('ndof',ndof)"
   ]
  },
  {
   "cell_type": "code",
   "execution_count": 130,
   "metadata": {},
   "outputs": [
    {
     "name": "stdout",
     "output_type": "stream",
     "text": [
      "component par name  value  units error   step     min      max    frozen\n",
      "--------- -------- ------- ----- ------ ------ --------- -------- ------\n",
      "     wabs       nH 21.0896 10^22 0.7457 0.2109  0.00e+00 1.00e+05  False\n",
      " powerlaw PhoIndex  1.3705       0.0188 0.0137 -3.00e+00 9.00e+00  False\n",
      " powerlaw     norm  0.0032       0.0002 0.0000  0.00e+00 1.00e+20  False\n"
     ]
    }
   ],
   "source": [
    "print_model(m)"
   ]
  },
  {
   "cell_type": "code",
   "execution_count": 131,
   "metadata": {},
   "outputs": [
    {
     "data": {
      "image/png": "[encoded data removed]",
      "text/plain": [
       "<IPython.core.display.Image object>"
      ]
     },
     "metadata": {},
     "output_type": "display_data"
    }
   ],
   "source": [
    "plot_spectrum()"
   ]
  },
  {
   "cell_type": "code",
   "execution_count": 133,
   "metadata": {},
   "outputs": [],
   "source": [
    "xsp.AllModels.clear()\n",
    "# Use a more appropriate model\n",
    "m = xsp.Model('zphabs*(pexrav)')"
   ]
  },
  {
   "cell_type": "code",
   "execution_count": 134,
   "metadata": {},
   "outputs": [
    {
     "name": "stdout",
     "output_type": "stream",
     "text": [
      "component par name  value   units error    step     min      max    frozen\n",
      "--------- -------- -------- ----- ------ ------- --------- -------- ------\n",
      "   zphabs       nH   1.0000 10^22 0.0000  0.0100  0.00e+00 1.00e+05  False\n",
      "   zphabs Redshift   0.0000       0.0000 -0.0100 -9.99e-01 1.00e+01   True\n",
      "   pexrav PhoIndex   2.0000       0.0000  0.0200 -1.00e+01 9.00e+00  False\n",
      "   pexrav    foldE 100.0000   keV 0.0000  1.0000  1.00e+00 1.00e+06  False\n",
      "   pexrav rel_refl   0.0000       0.0000  0.0100  0.00e+00 1.00e+06  False\n",
      "   pexrav Redshift   0.0000       0.0000 -0.0100 -9.99e-01 1.00e+01   True\n",
      "   pexrav    abund   1.0000       0.0000 -0.0100  0.00e+00 1.00e+06   True\n",
      "   pexrav Fe_abund   1.0000       0.0000 -0.0100  0.00e+00 1.00e+06   True\n",
      "   pexrav  cosIncl   0.4500       0.0000 -0.0045  5.00e-02 9.50e-01   True\n",
      "   pexrav     norm   1.0000       0.0000  0.0100  0.00e+00 1.00e+20  False\n"
     ]
    }
   ],
   "source": [
    "print_model(m)"
   ]
  },
  {
   "cell_type": "code",
   "execution_count": 135,
   "metadata": {},
   "outputs": [
    {
     "data": {
      "image/png": "[encoded data removed]",
      "text/plain": [
       "<IPython.core.display.Image object>"
      ]
     },
     "metadata": {},
     "output_type": "display_data"
    }
   ],
   "source": [
    "plot_spectrum()"
   ]
  },
  {
   "cell_type": "code",
   "execution_count": 136,
   "metadata": {},
   "outputs": [],
   "source": [
    "xsp.Fit.renorm()"
   ]
  },
  {
   "cell_type": "code",
   "execution_count": 137,
   "metadata": {},
   "outputs": [
    {
     "data": {
      "image/png": "[encoded data removed]",
      "text/plain": [
       "<IPython.core.display.Image object>"
      ]
     },
     "metadata": {},
     "output_type": "display_data"
    }
   ],
   "source": [
    "plot_spectrum()"
   ]
  },
  {
   "cell_type": "code",
   "execution_count": 138,
   "metadata": {},
   "outputs": [
    {
     "name": "stdout",
     "output_type": "stream",
     "text": [
      "component par name  value   units error    step     min      max    frozen\n",
      "--------- -------- -------- ----- ------ ------- --------- -------- ------\n",
      "   zphabs       nH   1.0000 10^22 0.0000  0.0100  0.00e+00 1.00e+05  False\n",
      "   zphabs Redshift   0.0000       0.0000 -0.0100 -9.99e-01 1.00e+01   True\n",
      "   pexrav PhoIndex   2.0000       0.0000  0.0200 -1.00e+01 9.00e+00  False\n",
      "   pexrav    foldE 100.0000   keV 0.0000  1.0000  1.00e+00 1.00e+06  False\n",
      "   pexrav rel_refl   0.0000       0.0000  0.0100  0.00e+00 1.00e+06  False\n",
      "   pexrav Redshift   0.0000       0.0000 -0.0100 -9.99e-01 1.00e+01   True\n",
      "   pexrav    abund   1.0000       0.0000 -0.0100  0.00e+00 1.00e+06   True\n",
      "   pexrav Fe_abund   1.0000       0.0000 -0.0100  0.00e+00 1.00e+06   True\n",
      "   pexrav  cosIncl   0.4500       0.0000 -0.0045  5.00e-02 9.50e-01   True\n",
      "   pexrav     norm   0.0048       0.0000  0.0000  0.00e+00 1.00e+20  False\n"
     ]
    }
   ],
   "source": [
    "print_model(m)"
   ]
  },
  {
   "cell_type": "code",
   "execution_count": 147,
   "metadata": {},
   "outputs": [
    {
     "name": "stdout",
     "output_type": "stream",
     "text": [
      "('chi_red', 1.0648930488681256)\n",
      "('chi', 524.9922730919859)\n",
      "('ndof', 493)\n"
     ]
    }
   ],
   "source": [
    "xsp.Fit.query = 'yes'\n",
    "xsp.Fit.perform()\n",
    "\n",
    "chi2_red, chi2, ndof = get_stats()\n",
    "print('chi_red',chi2_red)\n",
    "print('chi',chi2)\n",
    "print('ndof',ndof)"
   ]
  },
  {
   "cell_type": "code",
   "execution_count": 152,
   "metadata": {},
   "outputs": [
    {
     "name": "stdout",
     "output_type": "stream",
     "text": [
      "component par name  value   units  error    step     min      max    frozen\n",
      "--------- -------- -------- ----- ------- ------- --------- -------- ------\n",
      "   zphabs       nH  21.9383 10^22  1.0421  0.2194  0.00e+00 1.00e+05  False\n",
      "   zphabs Redshift   0.0000        0.0000 -0.0100 -9.99e-01 1.00e+01   True\n",
      "   pexrav PhoIndex   1.6222        0.0821  0.0162 -1.00e+01 9.00e+00  False\n",
      "   pexrav    foldE 126.1213   keV 38.9513  1.2612  1.00e+00 1.00e+06  False\n",
      "   pexrav rel_refl   1.5621        0.2953  0.0156  0.00e+00 1.00e+06  False\n",
      "   pexrav Redshift   0.0000        0.0000 -0.0100 -9.99e-01 1.00e+01   True\n",
      "   pexrav    abund   1.0000        0.0000 -0.0100  0.00e+00 1.00e+06   True\n",
      "   pexrav Fe_abund   1.0000        0.0000 -0.0100  0.00e+00 1.00e+06   True\n",
      "   pexrav  cosIncl   0.4500        0.0000 -0.0045  5.00e-02 9.50e-01   True\n",
      "   pexrav     norm   0.0051        0.0008  0.0001  0.00e+00 1.00e+20  False\n"
     ]
    }
   ],
   "source": [
    "print_model(m)"
   ]
  },
  {
   "cell_type": "code",
   "execution_count": 163,
   "metadata": {},
   "outputs": [
    {
     "data": {
      "image/png": "[encoded data removed]",
      "text/plain": [
       "<IPython.core.display.Image object>"
      ]
     },
     "metadata": {},
     "output_type": "display_data"
    }
   ],
   "source": [
    "p = plot_spectrum()"
   ]
  },
  {
   "cell_type": "code",
   "execution_count": 170,
   "metadata": {},
   "outputs": [],
   "source": [
    "xVals = p.x()\n",
    "yVals = p.y()\n",
    "#yVals2 = p.y(2)  # Gets values for data in the second plot group\n",
    "modVals = p.model()\n",
    "# Retrieve error arrays\n",
    "xErrs = p.xErr()\n",
    "yErrs = p.yErr()"
   ]
  },
  {
   "cell_type": "code",
   "execution_count": 172,
   "metadata": {},
   "outputs": [
    {
     "data": {
      "text/plain": [
       "[0.0016102597645295215,\n",
       " 0.0018544799011323261,\n",
       " 0.0017582623669814028,\n",
       " 0.0017575590859740834,\n",
       " 0.0018780091660676474,\n",
       " 0.0018551519648844468,\n",
       " 0.001826246262229346,\n",
       " 0.0019639851926681728,\n",
       " 0.0020894260723216484,\n",
       " 0.0030272731808933897,\n",
       " 0.0021234886086344534,\n",
       " 0.003694253274737741,\n",
       " 0.0035889572010420643,\n",
       " 0.003385324779190536,\n",
       " 0.0033750838164285247,\n",
       " 0.003457645233871897,\n",
       " 0.003889370454289095,\n",
       " 0.004096339847918755,\n",
       " 0.00402443778317218,\n",
       " 0.0035466565959489382,\n",
       " 0.003881734133068003,\n",
       " 0.0038070335023689564,\n",
       " 0.00412942727330737,\n",
       " 0.0039166349505299685,\n",
       " 0.0043294952352130696,\n",
       " 0.0036184859535346578,\n",
       " 0.004579447220778292,\n",
       " 0.004332920529754561,\n",
       " 0.004611213201252533,\n",
       " 0.004304846360407853,\n",
       " 0.004065416531843111,\n",
       " 0.004331779065852342,\n",
       " 0.00470101865968352,\n",
       " 0.004522851041633874,\n",
       " 0.004522904958271234,\n",
       " 0.004802545307806593,\n",
       " 0.004883777070645458,\n",
       " 0.004399784198820639,\n",
       " 0.004994982156236903,\n",
       " 0.004405400459124184,\n",
       " 0.004617643320816084,\n",
       " 0.005175004571272419,\n",
       " 0.0049686585440186296,\n",
       " 0.00505309285686977,\n",
       " 0.0051380646158715425,\n",
       " 0.004395286023564785,\n",
       " 0.004877639653617231,\n",
       " 0.005086762228443523,\n",
       " 0.004798424706743588,\n",
       " 0.005350375300203952,\n",
       " 0.0052457656396238134,\n",
       " 0.005435248719131003,\n",
       " 0.005137102058073132,\n",
       " 0.0051888598000931424,\n",
       " 0.005187906666779066,\n",
       " 0.00514095120792904,\n",
       " 0.005169267807128846,\n",
       " 0.0053821852812406925,\n",
       " 0.005505294014595562,\n",
       " 0.005290856543599486,\n",
       " 0.0052973952144080415,\n",
       " 0.0051888598000931424,\n",
       " 0.005135176401199407,\n",
       " 0.005633743441934562,\n",
       " 0.00570748231892379,\n",
       " 0.005830569813589228,\n",
       " 0.005679236987120734,\n",
       " 0.0057057491652896695,\n",
       " 0.006291057117389672,\n",
       " 0.006557566636634579,\n",
       " 0.005900173956655939,\n",
       " 0.005802002210003993,\n",
       " 0.006362619114659462,\n",
       " 0.00573558855617932,\n",
       " 0.005819942570372119,\n",
       " 0.005925697722642,\n",
       " 0.005634621159523739,\n",
       " 0.005905200705282824,\n",
       " 0.005685329000907856,\n",
       " 0.00480048544940105,\n",
       " 0.005241993454651579,\n",
       " 0.00507508272513623,\n",
       " 0.005587879524757238,\n",
       " 0.005297332065228618,\n",
       " 0.005078005119376315,\n",
       " 0.00543069760065458,\n",
       " 0.005553686457424646,\n",
       " 0.005216916365491616,\n",
       " 0.004991020434127396,\n",
       " 0.0055545768253930814,\n",
       " 0.005460228758459018,\n",
       " 0.004937189129850485,\n",
       " 0.004909548558475219,\n",
       " 0.004941194012701954,\n",
       " 0.005028057164341364,\n",
       " 0.004855832474444998,\n",
       " 0.0050201229522240445,\n",
       " 0.004852776287285326,\n",
       " 0.004714674133198192,\n",
       " 0.004206591605496038,\n",
       " 0.004634232837527865,\n",
       " 0.0046793845829861715,\n",
       " 0.004857868864378551,\n",
       " 0.004676213077913879,\n",
       " 0.004294495105412171,\n",
       " 0.004462323425053268,\n",
       " 0.005077031174869828,\n",
       " 0.004940193096362699,\n",
       " 0.004761622213555242,\n",
       " 0.004455669163987309,\n",
       " 0.0050221525461710895,\n",
       " 0.004620855025178054,\n",
       " 0.004911562677157853,\n",
       " 0.004494917206055161,\n",
       " 0.004234149338895546,\n",
       " 0.0041574965176383,\n",
       " 0.004295646476634344,\n",
       " 0.004879725064848888,\n",
       " 0.004854813959160812,\n",
       " 0.0043272101992055745,\n",
       " 0.004966667579315674,\n",
       " 0.004735102755341233,\n",
       " 0.004482798883438691,\n",
       " 0.005046237640803747,\n",
       " 0.004823627037483215,\n",
       " 0.004874655321092424,\n",
       " 0.004632098132466286,\n",
       " 0.004646909683836657,\n",
       " 0.004604774102660615,\n",
       " 0.004393035208750325,\n",
       " 0.004260368278787349,\n",
       " 0.004794300564111458,\n",
       " 0.005050156046570483,\n",
       " 0.004389656822564166,\n",
       " 0.004324923955919321,\n",
       " 0.0044872093328266974,\n",
       " 0.005102795759647435,\n",
       " 0.004763755615008795,\n",
       " 0.0047606403176560135,\n",
       " 0.004961686672328837,\n",
       " 0.0044850046502744115,\n",
       " 0.004669863606057571,\n",
       " 0.004938190655060389,\n",
       " 0.004331779065852342,\n",
       " 0.004551807143940772,\n",
       " 0.004823627037483215,\n",
       " 0.004576206455401475,\n",
       " 0.00451852935082939,\n",
       " 0.004902492626750435,\n",
       " 0.004583764677112238,\n",
       " 0.004823627037483215,\n",
       " 0.004054454044760605,\n",
       " 0.004389552167385295,\n",
       " 0.00470101865968352,\n",
       " 0.004324923955919321,\n",
       " 0.0046709224507577715,\n",
       " 0.004758562319699935,\n",
       " 0.004910555721080666,\n",
       " 0.0044883112679959015,\n",
       " 0.004455669163987309,\n",
       " 0.004901483807331248,\n",
       " 0.004489412932692975,\n",
       " 0.0047330135453024225,\n",
       " 0.0044872093328266974,\n",
       " 0.00449161545146675,\n",
       " 0.0043862758342867875,\n",
       " 0.004729877999967899,\n",
       " 0.003654547798292335,\n",
       " 0.004328352867999641,\n",
       " 0.0044872093328266974,\n",
       " 0.004818498271005116,\n",
       " 0.004577286965470932,\n",
       " 0.004025666393584518,\n",
       " 0.004511957983341037,\n",
       " 0.004702070488678854,\n",
       " 0.003981795690646672,\n",
       " 0.004551807143940772,\n",
       " 0.004087783048699134,\n",
       " 0.004649148328219805,\n",
       " 0.0047330135453024225,\n",
       " 0.00442278615347789,\n",
       " 0.004324923955919321,\n",
       " 0.004256884605607908,\n",
       " 0.004256884605607908,\n",
       " 0.00422713590663913,\n",
       " 0.0044216678886573775,\n",
       " 0.004483901902491973,\n",
       " 0.00422713590663913,\n",
       " 0.004294495105412171,\n",
       " 0.004483901902491973,\n",
       " 0.003733580090077965,\n",
       " 0.00422713590663913,\n",
       " 0.004093924677619647,\n",
       " 0.004482798883438691,\n",
       " 0.004054454044760605,\n",
       " 0.004223624823272297,\n",
       " 0.0043562755514742766,\n",
       " 0.004086670602721898,\n",
       " 0.003910316755283783,\n",
       " 0.004161063400095037,\n",
       " 0.0035737681697306737,\n",
       " 0.004225965869642805,\n",
       " 0.004222353144519279,\n",
       " 0.004049572302580581,\n",
       " 0.004091508081673456,\n",
       " 0.0038070788857881488,\n",
       " 0.003942456810025554,\n",
       " 0.003985519821489825,\n",
       " 0.00372827822483499,\n",
       " 0.0038336387422157957,\n",
       " 0.003842657816993549,\n",
       " 0.003014176401151847,\n",
       " 0.00415987477910075,\n",
       " 0.003912845257645262,\n",
       " 0.004091508081673456,\n",
       " 0.0034122689431200334,\n",
       " 0.003765915349483894,\n",
       " 0.0034137178826015293,\n",
       " 0.004058111497545565,\n",
       " 0.0038083776184125824,\n",
       " 0.0034504866836806143,\n",
       " 0.0038375066555321807,\n",
       " 0.0038715289415590737,\n",
       " 0.0033256095172401524,\n",
       " 0.003984278831316443,\n",
       " 0.003842657816993549,\n",
       " 0.0038375066555321807,\n",
       " 0.003568143784032903,\n",
       " 0.003843944528776864,\n",
       " 0.003151418580633119,\n",
       " 0.0029174045211539366,\n",
       " 0.003986760425370484,\n",
       " 0.0031989498044957252,\n",
       " 0.003840083099996367,\n",
       " 0.003281421692139958,\n",
       " 0.003024004303590268,\n",
       " 0.003801879518786214,\n",
       " 0.004091508081673456,\n",
       " 0.003725624462845769,\n",
       " 0.0033270961968314408,\n",
       " 0.002965351418929818,\n",
       " 0.003453351884456776,\n",
       " 0.0034079184284172104,\n",
       " 0.0034108193881191577,\n",
       " 0.0035326857476243923,\n",
       " 0.0034953668730753826,\n",
       " 0.0038728060611320936,\n",
       " 0.003453351884456776,\n",
       " 0.0032004953200239486,\n",
       " 0.004010898229909636,\n",
       " 0.003449053190724272,\n",
       " 0.003284434381331219,\n",
       " 0.0035298007854897705,\n",
       " 0.003914108896299256,\n",
       " 0.003489703112034738,\n",
       " 0.0032829283823224997,\n",
       " 0.003651840457410405,\n",
       " 0.0035340853177704234,\n",
       " 0.0034519195813444443,\n",
       " 0.003577917027603632,\n",
       " 0.003022368539129618,\n",
       " 0.003575151657313587,\n",
       " 0.0032412110865494294,\n",
       " 0.0031111172427434955,\n",
       " 0.0031095273043155493,\n",
       " 0.0034967813799556785,\n",
       " 0.0033256095172401524,\n",
       " 0.003236630652721291,\n",
       " 0.003284434381331219,\n",
       " 0.0030589914732062256,\n",
       " 0.002963683281988331,\n",
       " 0.002965351418929818,\n",
       " 0.003493951793539919,\n",
       " 0.0032829283823224997,\n",
       " 0.0020463582790051188,\n",
       " 0.003012535300282594,\n",
       " 0.0031988735373346417,\n",
       " 0.003060607664330787,\n",
       " 0.0033662810514046466,\n",
       " 0.0022881032277007377,\n",
       " 0.003151418580633119,\n",
       " 0.003485449251489549,\n",
       " 0.003235102400283968,\n",
       " 0.0031912109993893286,\n",
       " 0.0019395926760663745,\n",
       " 0.003238158183898219,\n",
       " 0.0029174045211539366,\n",
       " 0.0033181661278631723,\n",
       " 0.0029157089529370846,\n",
       " 0.003194308771275462,\n",
       " 0.0029736780671096334,\n",
       " 0.0030108933049241018,\n",
       " 0.003099970549120131,\n",
       " 0.0029770022053120493,\n",
       " 0.0034093692168138063,\n",
       " 0.0021636050996027873,\n",
       " 0.002043940254567347,\n",
       " 0.0030589185428354167,\n",
       " 0.0021781377757371383,\n",
       " 0.0021455195690655684,\n",
       " 0.002029664958085661,\n",
       " 0.0033300675648692416,\n",
       " 0.002970350208844904,\n",
       " 0.0021624619779596604,\n",
       " 0.0030557565265453453,\n",
       " 0.0019737119822841307,\n",
       " 0.0021647476176065348,\n",
       " 0.0032397622368595643,\n",
       " 0.003101491441190099,\n",
       " 0.003108010653336163,\n",
       " 0.0019048379541471406,\n",
       " 0.0033210663050132648,\n",
       " 0.0018661276649263993,\n",
       " 0.0018996385835035946,\n",
       " 0.0019022400452486281,\n",
       " 0.0020445450287762852,\n",
       " 0.001973109032995437,\n",
       " 0.003009322161511942,\n",
       " 0.0020091445481575,\n",
       " 0.003060534695427861,\n",
       " 0.0016680011805932573,\n",
       " 0.0018299782360216197,\n",
       " 0.0016429698450582215,\n",
       " 0.001788958513801816,\n",
       " 0.0020116043987829626,\n",
       " 0.0018471376471120777,\n",
       " 0.001973735510786888,\n",
       " 0.0018875481127750176,\n",
       " 0.0030173839851508166,\n",
       " 0.0019206853371055907,\n",
       " 0.0019421406207744795,\n",
       " 0.0018092429767673289,\n",
       " 0.0017861920731802729,\n",
       " 0.00182524301700948,\n",
       " 0.0020266170802141974,\n",
       " 0.0019041888092062912,\n",
       " 0.0016613170812291038,\n",
       " 0.0017476834365376913,\n",
       " 0.0018437880667565327,\n",
       " 0.0018259202287052025,\n",
       " 0.002029664958085661,\n",
       " 0.0018661276649263993,\n",
       " 0.001881644064100227,\n",
       " 0.0018085595203169056,\n",
       " 0.0016437221548131627,\n",
       " 0.001482675709464909,\n",
       " 0.0015978901688968737,\n",
       " 0.0016687422056487606,\n",
       " 0.0018431174202043674,\n",
       " 0.0016680011805932573,\n",
       " 0.002917474079222726,\n",
       " 0.0016422171906656095,\n",
       " 0.0017462680703266076,\n",
       " 0.0017910305400698706,\n",
       " 0.0015547636521577746,\n",
       " 0.001805138356543333,\n",
       " 0.0016414641911612498,\n",
       " 0.001882957674741947,\n",
       " 0.0019402299759315417,\n",
       " 0.0012287351816837285,\n",
       " 0.0018232098726649376,\n",
       " 0.0017039592142086052,\n",
       " 0.0017061344715600167,\n",
       " 0.0017061344715600167,\n",
       " 0.0015311115012281366,\n",
       " 0.0016831405257023233,\n",
       " 0.0016399571549155412,\n",
       " 0.0016620610863733558,\n",
       " 0.0015103659444409938,\n",
       " 0.0010824274914499569,\n",
       " 0.0015335319561561307,\n",
       " 0.001617551200141984,\n",
       " 0.0016259368376611877,\n",
       " 0.0010085383794163091,\n",
       " 0.0016444741204034244,\n",
       " 0.0015555586213717477,\n",
       " 0.001556353184523668,\n",
       " 0.0011250368798078458,\n",
       " 0.001232307392984616,\n",
       " 0.0011794362755271782,\n",
       " 0.0011417533706242168,\n",
       " 0.0015087279626298292,\n",
       " 0.0015046252068060685,\n",
       " 0.001150153087289327,\n",
       " 0.0015087279626298292,\n",
       " 0.001597154385637731,\n",
       " 0.0011110209242639676,\n",
       " 0.0014603963523366996,\n",
       " 0.0015555586213717477,\n",
       " 0.0015515797021935487,\n",
       " 0.001150153087289327,\n",
       " 0.001125018997953283,\n",
       " 0.0011674871766291272,\n",
       " 0.0010375605438842279,\n",
       " 0.0011501713686430366,\n",
       " 0.0009780943322470824,\n",
       " 0.0014843424403901046,\n",
       " 0.0009797937544703034,\n",
       " 0.0010101714826167504,\n",
       " 0.0010118180322055534,\n",
       " 0.0011539685820239499,\n",
       " 0.0009934329835297247,\n",
       " 0.0008343711028243803,\n",
       " 0.0011110209242639676,\n",
       " 0.0010058106482807427,\n",
       " 0.0008175178783212548,\n",
       " 0.0007612973208481011,\n",
       " 0.000991772318240594,\n",
       " 0.0010562193331546217,\n",
       " 0.0008190287490850831,\n",
       " 0.0010266371100926934,\n",
       " 0.00097923278430235,\n",
       " 0.0008024381963883168,\n",
       " 0.0011090232518771446,\n",
       " 0.001150649004993563,\n",
       " 0.000823354163294084,\n",
       " 0.0009895694913259713,\n",
       " 0.0007691807205185901,\n",
       " 0.00067910373282996,\n",
       " 0.0006054575232278791,\n",
       " 0.0007471518931547875,\n",
       " 0.0010207328887548554,\n",
       " 0.0005871954289108488,\n",
       " 0.0005589572895526476,\n",
       " 0.0007450806589749498,\n",
       " 0.0007833229172674946,\n",
       " 0.0007386152102038888,\n",
       " 0.0009769701539707172,\n",
       " 0.0007596716397743873,\n",
       " 0.0007633245533825925,\n",
       " 0.0006640778554072433,\n",
       " 0.0007496298200607204,\n",
       " 0.0007459098428128164,\n",
       " 0.0007679651435169353,\n",
       " 0.0005963991367972295,\n",
       " 0.0005521530484209023,\n",
       " 0.0005072608174706574,\n",
       " 0.0006096841815662042,\n",
       " 0.0005408325142788365,\n",
       " 0.0006220556474780774,\n",
       " 0.00042965089327979134,\n",
       " 0.0005912240172125687,\n",
       " 0.0005183821780611484,\n",
       " 0.0005151924578195026,\n",
       " 0.0004992031703504086,\n",
       " 0.0004218252134698352,\n",
       " 0.0005967307196867726,\n",
       " 0.00042764813440525313,\n",
       " 0.0003853931730293388,\n",
       " 0.00041942873490963067,\n",
       " 0.0004884850769853586,\n",
       " 0.0003441746603650429,\n",
       " 0.00038599418684425477,\n",
       " 0.000391064492794175,\n",
       " 0.00034328656547233605,\n",
       " 0.00033243413308119016,\n",
       " 0.00043176252243400483,\n",
       " 0.00030034771897038406,\n",
       " 0.0003048420907831021,\n",
       " 0.00028484531457436107,\n",
       " 0.00033763094548231603,\n",
       " 0.0002991900857077007,\n",
       " 0.0002810146769850368,\n",
       " 0.0002690440400311038,\n",
       " 0.0003684697471609931,\n",
       " 0.0003265944574065648,\n",
       " 0.00021523681780801223,\n",
       " 0.00021429844760590801,\n",
       " 0.00027304030351017446,\n",
       " 0.0002147688798977636,\n",
       " 0.00017763993010162544,\n",
       " 0.00016704145068977927,\n",
       " 0.0002722932285531917,\n",
       " 0.00025001201707500035,\n",
       " 0.00012183873269384309,\n",
       " 0.00021222585452701623,\n",
       " 0.00014427090467783734,\n",
       " 0.0001977426840693491,\n",
       " 0.00016543388543821855,\n",
       " 0.00015602502946454727,\n",
       " 0.00014897311407676856,\n",
       " 0.00017106084054479287,\n",
       " 0.00013535493198228626,\n",
       " 9.153543497829073e-05,\n",
       " 9.460012304073198e-05,\n",
       " 9.775744213026013e-05,\n",
       " 0.000110534427054758,\n",
       " 0.00010729484525933051,\n",
       " 8.927546047066201e-05,\n",
       " 6.587989638946832e-05,\n",
       " 6.440868834489391e-05,\n",
       " 6.920748672496603e-05,\n",
       " 5.777317598980712e-05,\n",
       " 7.783004534889505e-05,\n",
       " 6.503143972809237e-05,\n",
       " 5.531229411502633e-05,\n",
       " 5.921227753108735e-05,\n",
       " 5.393369732930324e-05]"
      ]
     },
     "execution_count": 172,
     "metadata": {},
     "output_type": "execute_result"
    }
   ],
   "source": [
    "yErrs"
   ]
  },
  {
   "cell_type": "code",
   "execution_count": null,
   "metadata": {},
   "outputs": [],
   "source": [
    "plot_spectrum(\"euf del chisq\")"
   ]
  },
  {
   "cell_type": "code",
   "execution_count": null,
   "metadata": {},
   "outputs": [],
   "source": [
    "# Finally use an appropriately more complex model\n",
    "# m3 = xsp.Model('zphabs*(pexrav+zgauss)')"
   ]
  },
  {
   "cell_type": "markdown",
   "metadata": {},
   "source": [
    "# Load another spectra (NGC 5548)"
   ]
  },
  {
   "cell_type": "code",
   "execution_count": null,
   "metadata": {},
   "outputs": [],
   "source": [
    "xsp.AllModels.clear()\n",
    "xsp.AllData.clear()\n",
    "xsp.AllChains.clear()\n",
    "\n",
    "s = xsp.Spectrum(\"nu_ngc5548_obs1_sr-30.pha\")"
   ]
  },
  {
   "cell_type": "code",
   "execution_count": null,
   "metadata": {},
   "outputs": [],
   "source": []
  },
  {
   "cell_type": "code",
   "execution_count": null,
   "metadata": {},
   "outputs": [],
   "source": []
  }
 ],
 "metadata": {
  "kernelspec": {
   "display_name": "Python 2",
   "language": "python",
   "name": "python2"
  },
  "language_info": {
   "codemirror_mode": {
    "name": "ipython",
    "version": 2
   },
   "file_extension": ".py",
   "mimetype": "text/x-python",
   "name": "python",
   "nbconvert_exporter": "python",
   "pygments_lexer": "ipython2",
   "version": "2.7.15"
  }
 },
 "nbformat": 4,
 "nbformat_minor": 4
}
